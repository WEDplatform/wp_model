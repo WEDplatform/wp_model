{
 "cells": [
  {
   "cell_type": "code",
   "execution_count": 20,
   "id": "ec66bb81-56c8-4ab9-89a3-d7fcbde225ac",
   "metadata": {},
   "outputs": [],
   "source": [
    "import pandas as pd"
   ]
  },
  {
   "cell_type": "code",
   "execution_count": 21,
   "id": "e4e9c7ef-b723-4d86-8b79-5923e4339b9e",
   "metadata": {},
   "outputs": [],
   "source": [
    "import ast"
   ]
  },
  {
   "cell_type": "code",
   "execution_count": 22,
   "id": "0bc6bdc2-99ea-4a84-b565-bcf6d5b80859",
   "metadata": {},
   "outputs": [],
   "source": [
    "def listConvertor(data):\n",
    "    return ast.literal_eval(data)"
   ]
  },
  {
   "cell_type": "code",
   "execution_count": 23,
   "id": "b8574c90-3ac0-48a8-9ec1-4bed867c7071",
   "metadata": {},
   "outputs": [],
   "source": [
    "hd=pd.read_csv(\"../r1Data/Hotel Info.csv\")"
   ]
  },
  {
   "cell_type": "code",
   "execution_count": 24,
   "id": "e4a73510-c0e2-4527-ba64-681a5ffd976f",
   "metadata": {},
   "outputs": [],
   "source": [
    "hd.drop(columns=['Code','Latitude','Longitude'],inplace=True)"
   ]
  },
  {
   "cell_type": "code",
   "execution_count": 25,
   "id": "a53679b5-b0c6-444b-9431-76d626f9d021",
   "metadata": {},
   "outputs": [
    {
     "data": {
      "text/plain": [
       "\"['Kitchen/Kitchenette', 'Housekeeping', 'Parking (Free)', 'Room service', 'Dry Cleaning services', 'Newspaper', 'Umbrellas', 'Torch', 'Barbeque', 'Dining Area', 'Safe', 'CCTV', 'Safety and Security', 'Security', 'Caretaker', 'Electrical Sockets', 'Bonfire (Paid)', 'Living Room', 'Seating Area']\""
      ]
     },
     "execution_count": 25,
     "metadata": {},
     "output_type": "execute_result"
    }
   ],
   "source": [
    "hd['Amenities'][0]"
   ]
  },
  {
   "cell_type": "code",
   "execution_count": 26,
   "id": "a5206ed5-bd23-47d2-aa4a-6afc1c747130",
   "metadata": {},
   "outputs": [],
   "source": [
    "hd['Amenities']=hd['Amenities'].apply(lambda x : listConvertor(x))"
   ]
  },
  {
   "cell_type": "code",
   "execution_count": 27,
   "id": "d6e3aa0b-0226-4909-9fd5-8401fafdf7df",
   "metadata": {},
   "outputs": [
    {
     "data": {
      "text/html": [
       "<div>\n",
       "<style scoped>\n",
       "    .dataframe tbody tr th:only-of-type {\n",
       "        vertical-align: middle;\n",
       "    }\n",
       "\n",
       "    .dataframe tbody tr th {\n",
       "        vertical-align: top;\n",
       "    }\n",
       "\n",
       "    .dataframe thead th {\n",
       "        text-align: right;\n",
       "    }\n",
       "</style>\n",
       "<table border=\"1\" class=\"dataframe\">\n",
       "  <thead>\n",
       "    <tr style=\"text-align: right;\">\n",
       "      <th></th>\n",
       "      <th>Unnamed: 0</th>\n",
       "      <th>City</th>\n",
       "      <th>Amenities</th>\n",
       "      <th>Price</th>\n",
       "      <th>Address</th>\n",
       "    </tr>\n",
       "  </thead>\n",
       "  <tbody>\n",
       "    <tr>\n",
       "      <th>0</th>\n",
       "      <td>0</td>\n",
       "      <td>Coorg</td>\n",
       "      <td>[Kitchen/Kitchenette, Housekeeping, Parking (F...</td>\n",
       "      <td>5400</td>\n",
       "      <td>Kootuhole,Galibeedu Road, Madikeri</td>\n",
       "    </tr>\n",
       "    <tr>\n",
       "      <th>1</th>\n",
       "      <td>1</td>\n",
       "      <td>udaipur</td>\n",
       "      <td>[Masks, Sanitizers (Free), Sanitizers installe...</td>\n",
       "      <td>2158</td>\n",
       "      <td>sohan sadan,near PNB bank, bhuwana by pass cho...</td>\n",
       "    </tr>\n",
       "    <tr>\n",
       "      <th>2</th>\n",
       "      <td>2</td>\n",
       "      <td>Lake</td>\n",
       "      <td>[Parking (Free), Wifi (Free), Elevator/ Lift, ...</td>\n",
       "      <td>7001</td>\n",
       "      <td>850 South US Hwy 27/441</td>\n",
       "    </tr>\n",
       "    <tr>\n",
       "      <th>3</th>\n",
       "      <td>3</td>\n",
       "      <td>Mysore</td>\n",
       "      <td>[Masks (Paid), Disinfectant wipes (Paid), Glov...</td>\n",
       "      <td>1004</td>\n",
       "      <td>15/B, HOTEL THE GRAND VANAM, LOKARANJANMAHAL\\r...</td>\n",
       "    </tr>\n",
       "    <tr>\n",
       "      <th>4</th>\n",
       "      <td>4</td>\n",
       "      <td>Mahabaleshwar</td>\n",
       "      <td>[Masks, Gloves (Paid), Thermal screening at en...</td>\n",
       "      <td>1812</td>\n",
       "      <td>Pan Hill Hotel, Opposite Bus Stand, Panchgani ...</td>\n",
       "    </tr>\n",
       "  </tbody>\n",
       "</table>\n",
       "</div>"
      ],
      "text/plain": [
       "   Unnamed: 0           City  \\\n",
       "0           0          Coorg   \n",
       "1           1        udaipur   \n",
       "2           2           Lake   \n",
       "3           3         Mysore   \n",
       "4           4  Mahabaleshwar   \n",
       "\n",
       "                                           Amenities Price  \\\n",
       "0  [Kitchen/Kitchenette, Housekeeping, Parking (F...  5400   \n",
       "1  [Masks, Sanitizers (Free), Sanitizers installe...  2158   \n",
       "2  [Parking (Free), Wifi (Free), Elevator/ Lift, ...  7001   \n",
       "3  [Masks (Paid), Disinfectant wipes (Paid), Glov...  1004   \n",
       "4  [Masks, Gloves (Paid), Thermal screening at en...  1812   \n",
       "\n",
       "                                             Address  \n",
       "0                 Kootuhole,Galibeedu Road, Madikeri  \n",
       "1  sohan sadan,near PNB bank, bhuwana by pass cho...  \n",
       "2                            850 South US Hwy 27/441  \n",
       "3  15/B, HOTEL THE GRAND VANAM, LOKARANJANMAHAL\\r...  \n",
       "4  Pan Hill Hotel, Opposite Bus Stand, Panchgani ...  "
      ]
     },
     "execution_count": 27,
     "metadata": {},
     "output_type": "execute_result"
    }
   ],
   "source": [
    "hd.head()"
   ]
  },
  {
   "cell_type": "code",
   "execution_count": 34,
   "id": "a8322822-518e-4329-955e-7cdd19b70a4a",
   "metadata": {},
   "outputs": [],
   "source": [
    "def joinwords(data):\n",
    "    itemList=[]\n",
    "    for item in data:\n",
    "        item=item.replace(\"/\",\"\")\n",
    "        item=item.replace(\"(\",\"\").replace(\")\",\"\")\n",
    "        item=item.lower()\n",
    "        item=item.replace(\" \",\"\")\n",
    "        itemList.append(item)\n",
    "    return itemList"
   ]
  },
  {
   "cell_type": "code",
   "execution_count": 35,
   "id": "63370bff-f5a2-4182-8720-71f6fcb6a029",
   "metadata": {},
   "outputs": [
    {
     "data": {
      "text/plain": [
       "['Kitchen/Kitchenette',\n",
       " 'Housekeeping',\n",
       " 'Parking (Free)',\n",
       " 'Room service',\n",
       " 'Dry Cleaning services',\n",
       " 'Newspaper',\n",
       " 'Umbrellas',\n",
       " 'Torch',\n",
       " 'Barbeque',\n",
       " 'Dining Area',\n",
       " 'Safe',\n",
       " 'CCTV',\n",
       " 'Safety and Security',\n",
       " 'Security',\n",
       " 'Caretaker',\n",
       " 'Electrical Sockets',\n",
       " 'Bonfire (Paid)',\n",
       " 'Living Room',\n",
       " 'Seating Area']"
      ]
     },
     "execution_count": 35,
     "metadata": {},
     "output_type": "execute_result"
    }
   ],
   "source": [
    "hd['Amenities'][0]"
   ]
  },
  {
   "cell_type": "code",
   "execution_count": 36,
   "id": "16f82e00-3887-46e1-a44a-c22e5703a208",
   "metadata": {},
   "outputs": [
    {
     "data": {
      "text/plain": [
       "['kitchenkitchenette',\n",
       " 'housekeeping',\n",
       " 'parkingfree',\n",
       " 'roomservice',\n",
       " 'drycleaningservices',\n",
       " 'newspaper',\n",
       " 'umbrellas',\n",
       " 'torch',\n",
       " 'barbeque',\n",
       " 'diningarea',\n",
       " 'safe',\n",
       " 'cctv',\n",
       " 'safetyandsecurity',\n",
       " 'security',\n",
       " 'caretaker',\n",
       " 'electricalsockets',\n",
       " 'bonfirepaid',\n",
       " 'livingroom',\n",
       " 'seatingarea']"
      ]
     },
     "execution_count": 36,
     "metadata": {},
     "output_type": "execute_result"
    }
   ],
   "source": [
    "joinwords(['Kitchen/Kitchenette',\n",
    " 'Housekeeping',\n",
    " 'Parking (Free)',\n",
    " 'Room service',\n",
    " 'Dry Cleaning services',\n",
    " 'Newspaper',\n",
    " 'Umbrellas',\n",
    " 'Torch',\n",
    " 'Barbeque',\n",
    " 'Dining Area',\n",
    " 'Safe',\n",
    " 'CCTV',\n",
    " 'Safety and Security',\n",
    " 'Security',\n",
    " 'Caretaker',\n",
    " 'Electrical Sockets',\n",
    " 'Bonfire (Paid)',\n",
    " 'Living Room',\n",
    " 'Seating Area']\n",
    ")"
   ]
  },
  {
   "cell_type": "code",
   "execution_count": 37,
   "id": "cf4dd8eb-7c34-44c2-ad2b-7f1865ad868d",
   "metadata": {},
   "outputs": [],
   "source": [
    "hd['Amenities']=hd['Amenities'].apply(joinwords)"
   ]
  },
  {
   "cell_type": "code",
   "execution_count": 38,
   "id": "845db3e7-869f-4950-8755-9fa28f830e42",
   "metadata": {},
   "outputs": [
    {
     "data": {
      "text/html": [
       "<div>\n",
       "<style scoped>\n",
       "    .dataframe tbody tr th:only-of-type {\n",
       "        vertical-align: middle;\n",
       "    }\n",
       "\n",
       "    .dataframe tbody tr th {\n",
       "        vertical-align: top;\n",
       "    }\n",
       "\n",
       "    .dataframe thead th {\n",
       "        text-align: right;\n",
       "    }\n",
       "</style>\n",
       "<table border=\"1\" class=\"dataframe\">\n",
       "  <thead>\n",
       "    <tr style=\"text-align: right;\">\n",
       "      <th></th>\n",
       "      <th>Unnamed: 0</th>\n",
       "      <th>City</th>\n",
       "      <th>Amenities</th>\n",
       "      <th>Price</th>\n",
       "      <th>Address</th>\n",
       "    </tr>\n",
       "  </thead>\n",
       "  <tbody>\n",
       "    <tr>\n",
       "      <th>0</th>\n",
       "      <td>0</td>\n",
       "      <td>Coorg</td>\n",
       "      <td>[kitchenkitchenette, housekeeping, parkingfree...</td>\n",
       "      <td>5400</td>\n",
       "      <td>Kootuhole,Galibeedu Road, Madikeri</td>\n",
       "    </tr>\n",
       "    <tr>\n",
       "      <th>1</th>\n",
       "      <td>1</td>\n",
       "      <td>udaipur</td>\n",
       "      <td>[masks, sanitizersfree, sanitizersinstalled, d...</td>\n",
       "      <td>2158</td>\n",
       "      <td>sohan sadan,near PNB bank, bhuwana by pass cho...</td>\n",
       "    </tr>\n",
       "    <tr>\n",
       "      <th>2</th>\n",
       "      <td>2</td>\n",
       "      <td>Lake</td>\n",
       "      <td>[parkingfree, wififree, elevatorlift, aircondi...</td>\n",
       "      <td>7001</td>\n",
       "      <td>850 South US Hwy 27/441</td>\n",
       "    </tr>\n",
       "    <tr>\n",
       "      <th>3</th>\n",
       "      <td>3</td>\n",
       "      <td>Mysore</td>\n",
       "      <td>[maskspaid, disinfectantwipespaid, glovespaid,...</td>\n",
       "      <td>1004</td>\n",
       "      <td>15/B, HOTEL THE GRAND VANAM, LOKARANJANMAHAL\\r...</td>\n",
       "    </tr>\n",
       "    <tr>\n",
       "      <th>4</th>\n",
       "      <td>4</td>\n",
       "      <td>Mahabaleshwar</td>\n",
       "      <td>[masks, glovespaid, thermalscreeningatentryand...</td>\n",
       "      <td>1812</td>\n",
       "      <td>Pan Hill Hotel, Opposite Bus Stand, Panchgani ...</td>\n",
       "    </tr>\n",
       "  </tbody>\n",
       "</table>\n",
       "</div>"
      ],
      "text/plain": [
       "   Unnamed: 0           City  \\\n",
       "0           0          Coorg   \n",
       "1           1        udaipur   \n",
       "2           2           Lake   \n",
       "3           3         Mysore   \n",
       "4           4  Mahabaleshwar   \n",
       "\n",
       "                                           Amenities Price  \\\n",
       "0  [kitchenkitchenette, housekeeping, parkingfree...  5400   \n",
       "1  [masks, sanitizersfree, sanitizersinstalled, d...  2158   \n",
       "2  [parkingfree, wififree, elevatorlift, aircondi...  7001   \n",
       "3  [maskspaid, disinfectantwipespaid, glovespaid,...  1004   \n",
       "4  [masks, glovespaid, thermalscreeningatentryand...  1812   \n",
       "\n",
       "                                             Address  \n",
       "0                 Kootuhole,Galibeedu Road, Madikeri  \n",
       "1  sohan sadan,near PNB bank, bhuwana by pass cho...  \n",
       "2                            850 South US Hwy 27/441  \n",
       "3  15/B, HOTEL THE GRAND VANAM, LOKARANJANMAHAL\\r...  \n",
       "4  Pan Hill Hotel, Opposite Bus Stand, Panchgani ...  "
      ]
     },
     "execution_count": 38,
     "metadata": {},
     "output_type": "execute_result"
    }
   ],
   "source": [
    "hd.head()"
   ]
  },
  {
   "cell_type": "code",
   "execution_count": 45,
   "id": "211501e5-be61-46c7-91d0-e54514971cd8",
   "metadata": {},
   "outputs": [],
   "source": [
    "hd['City']=hd['City'].apply(lambda x : [x])"
   ]
  },
  {
   "cell_type": "code",
   "execution_count": 48,
   "id": "4386473c-64c2-4f3a-95e7-3d74803ab438",
   "metadata": {},
   "outputs": [],
   "source": [
    "hd['tags']=hd['City']+hd['Amenities']"
   ]
  },
  {
   "cell_type": "code",
   "execution_count": 50,
   "id": "905f7f97-f0b7-401f-9144-17b034887cd1",
   "metadata": {},
   "outputs": [],
   "source": [
    "hd.drop(columns=['City',\"Amenities\"],inplace=True)"
   ]
  },
  {
   "cell_type": "code",
   "execution_count": 51,
   "id": "f63b880b-275a-447c-bbda-4b7e30285baf",
   "metadata": {},
   "outputs": [
    {
     "data": {
      "text/html": [
       "<div>\n",
       "<style scoped>\n",
       "    .dataframe tbody tr th:only-of-type {\n",
       "        vertical-align: middle;\n",
       "    }\n",
       "\n",
       "    .dataframe tbody tr th {\n",
       "        vertical-align: top;\n",
       "    }\n",
       "\n",
       "    .dataframe thead th {\n",
       "        text-align: right;\n",
       "    }\n",
       "</style>\n",
       "<table border=\"1\" class=\"dataframe\">\n",
       "  <thead>\n",
       "    <tr style=\"text-align: right;\">\n",
       "      <th></th>\n",
       "      <th>Unnamed: 0</th>\n",
       "      <th>Price</th>\n",
       "      <th>Address</th>\n",
       "      <th>tags</th>\n",
       "    </tr>\n",
       "  </thead>\n",
       "  <tbody>\n",
       "    <tr>\n",
       "      <th>0</th>\n",
       "      <td>0</td>\n",
       "      <td>5400</td>\n",
       "      <td>Kootuhole,Galibeedu Road, Madikeri</td>\n",
       "      <td>[Coorg, kitchenkitchenette, housekeeping, park...</td>\n",
       "    </tr>\n",
       "    <tr>\n",
       "      <th>1</th>\n",
       "      <td>1</td>\n",
       "      <td>2158</td>\n",
       "      <td>sohan sadan,near PNB bank, bhuwana by pass cho...</td>\n",
       "      <td>[udaipur, masks, sanitizersfree, sanitizersins...</td>\n",
       "    </tr>\n",
       "    <tr>\n",
       "      <th>2</th>\n",
       "      <td>2</td>\n",
       "      <td>7001</td>\n",
       "      <td>850 South US Hwy 27/441</td>\n",
       "      <td>[Lake, parkingfree, wififree, elevatorlift, ai...</td>\n",
       "    </tr>\n",
       "    <tr>\n",
       "      <th>3</th>\n",
       "      <td>3</td>\n",
       "      <td>1004</td>\n",
       "      <td>15/B, HOTEL THE GRAND VANAM, LOKARANJANMAHAL\\r...</td>\n",
       "      <td>[Mysore, maskspaid, disinfectantwipespaid, glo...</td>\n",
       "    </tr>\n",
       "    <tr>\n",
       "      <th>4</th>\n",
       "      <td>4</td>\n",
       "      <td>1812</td>\n",
       "      <td>Pan Hill Hotel, Opposite Bus Stand, Panchgani ...</td>\n",
       "      <td>[Mahabaleshwar, masks, glovespaid, thermalscre...</td>\n",
       "    </tr>\n",
       "  </tbody>\n",
       "</table>\n",
       "</div>"
      ],
      "text/plain": [
       "   Unnamed: 0 Price                                            Address  \\\n",
       "0           0  5400                 Kootuhole,Galibeedu Road, Madikeri   \n",
       "1           1  2158  sohan sadan,near PNB bank, bhuwana by pass cho...   \n",
       "2           2  7001                            850 South US Hwy 27/441   \n",
       "3           3  1004  15/B, HOTEL THE GRAND VANAM, LOKARANJANMAHAL\\r...   \n",
       "4           4  1812  Pan Hill Hotel, Opposite Bus Stand, Panchgani ...   \n",
       "\n",
       "                                                tags  \n",
       "0  [Coorg, kitchenkitchenette, housekeeping, park...  \n",
       "1  [udaipur, masks, sanitizersfree, sanitizersins...  \n",
       "2  [Lake, parkingfree, wififree, elevatorlift, ai...  \n",
       "3  [Mysore, maskspaid, disinfectantwipespaid, glo...  \n",
       "4  [Mahabaleshwar, masks, glovespaid, thermalscre...  "
      ]
     },
     "execution_count": 51,
     "metadata": {},
     "output_type": "execute_result"
    }
   ],
   "source": [
    "hd.head()"
   ]
  },
  {
   "cell_type": "code",
   "execution_count": null,
   "id": "4ad84e53-6a99-45cf-b927-b219df8450a3",
   "metadata": {},
   "outputs": [],
   "source": []
  }
 ],
 "metadata": {
  "kernelspec": {
   "display_name": "wedora_model",
   "language": "python",
   "name": "wedora_model"
  },
  "language_info": {
   "codemirror_mode": {
    "name": "ipython",
    "version": 3
   },
   "file_extension": ".py",
   "mimetype": "text/x-python",
   "name": "python",
   "nbconvert_exporter": "python",
   "pygments_lexer": "ipython3",
   "version": "3.12.4"
  }
 },
 "nbformat": 4,
 "nbformat_minor": 5
}
