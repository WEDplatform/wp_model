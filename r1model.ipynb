{
 "cells": [
  {
   "cell_type": "code",
   "execution_count": 20,
   "id": "ec66bb81-56c8-4ab9-89a3-d7fcbde225ac",
   "metadata": {},
   "outputs": [],
   "source": [
    "import pandas as pd"
   ]
  },
  {
   "cell_type": "code",
   "execution_count": 21,
   "id": "e4e9c7ef-b723-4d86-8b79-5923e4339b9e",
   "metadata": {},
   "outputs": [],
   "source": [
    "import ast"
   ]
  },
  {
   "cell_type": "code",
   "execution_count": 70,
   "id": "13ca4dc7-60c2-47d6-852f-7c8e9cc42825",
   "metadata": {},
   "outputs": [],
   "source": [
    "import nltk"
   ]
  },
  {
   "cell_type": "code",
   "execution_count": 72,
   "id": "62c317fe-bd95-4019-8bb6-aa483b12c8d4",
   "metadata": {},
   "outputs": [],
   "source": [
    "from nltk.stem.porter import PorterStemmer"
   ]
  },
  {
   "cell_type": "code",
   "execution_count": 73,
   "id": "d2f6805e-c396-4cca-861e-925339ac758e",
   "metadata": {},
   "outputs": [],
   "source": [
    "ps=PorterStemmer()"
   ]
  },
  {
   "cell_type": "code",
   "execution_count": 22,
   "id": "0bc6bdc2-99ea-4a84-b565-bcf6d5b80859",
   "metadata": {},
   "outputs": [],
   "source": [
    "def listConvertor(data):\n",
    "    return ast.literal_eval(data)"
   ]
  },
  {
   "cell_type": "code",
   "execution_count": null,
   "id": "fcc272ce-adcf-4760-a3b4-927fb8e7f2c3",
   "metadata": {},
   "outputs": [],
   "source": [
    "def stemData(text):\n",
    "    texts=[]\n",
    "    for word in text.split():\n",
    "        texts.append()"
   ]
  },
  {
   "cell_type": "code",
   "execution_count": 23,
   "id": "b8574c90-3ac0-48a8-9ec1-4bed867c7071",
   "metadata": {},
   "outputs": [],
   "source": [
    "hd=pd.read_csv(\"../r1Data/Hotel Info.csv\")"
   ]
  },
  {
   "cell_type": "code",
   "execution_count": 24,
   "id": "e4a73510-c0e2-4527-ba64-681a5ffd976f",
   "metadata": {},
   "outputs": [],
   "source": [
    "hd.drop(columns=['Code','Latitude','Longitude'],inplace=True)"
   ]
  },
  {
   "cell_type": "code",
   "execution_count": 25,
   "id": "a53679b5-b0c6-444b-9431-76d626f9d021",
   "metadata": {},
   "outputs": [
    {
     "data": {
      "text/plain": [
       "\"['Kitchen/Kitchenette', 'Housekeeping', 'Parking (Free)', 'Room service', 'Dry Cleaning services', 'Newspaper', 'Umbrellas', 'Torch', 'Barbeque', 'Dining Area', 'Safe', 'CCTV', 'Safety and Security', 'Security', 'Caretaker', 'Electrical Sockets', 'Bonfire (Paid)', 'Living Room', 'Seating Area']\""
      ]
     },
     "execution_count": 25,
     "metadata": {},
     "output_type": "execute_result"
    }
   ],
   "source": [
    "hd['Amenities'][0]"
   ]
  },
  {
   "cell_type": "code",
   "execution_count": 26,
   "id": "a5206ed5-bd23-47d2-aa4a-6afc1c747130",
   "metadata": {},
   "outputs": [],
   "source": [
    "hd['Amenities']=hd['Amenities'].apply(lambda x : listConvertor(x))"
   ]
  },
  {
   "cell_type": "code",
   "execution_count": 27,
   "id": "d6e3aa0b-0226-4909-9fd5-8401fafdf7df",
   "metadata": {},
   "outputs": [
    {
     "data": {
      "text/html": [
       "<div>\n",
       "<style scoped>\n",
       "    .dataframe tbody tr th:only-of-type {\n",
       "        vertical-align: middle;\n",
       "    }\n",
       "\n",
       "    .dataframe tbody tr th {\n",
       "        vertical-align: top;\n",
       "    }\n",
       "\n",
       "    .dataframe thead th {\n",
       "        text-align: right;\n",
       "    }\n",
       "</style>\n",
       "<table border=\"1\" class=\"dataframe\">\n",
       "  <thead>\n",
       "    <tr style=\"text-align: right;\">\n",
       "      <th></th>\n",
       "      <th>Unnamed: 0</th>\n",
       "      <th>City</th>\n",
       "      <th>Amenities</th>\n",
       "      <th>Price</th>\n",
       "      <th>Address</th>\n",
       "    </tr>\n",
       "  </thead>\n",
       "  <tbody>\n",
       "    <tr>\n",
       "      <th>0</th>\n",
       "      <td>0</td>\n",
       "      <td>Coorg</td>\n",
       "      <td>[Kitchen/Kitchenette, Housekeeping, Parking (F...</td>\n",
       "      <td>5400</td>\n",
       "      <td>Kootuhole,Galibeedu Road, Madikeri</td>\n",
       "    </tr>\n",
       "    <tr>\n",
       "      <th>1</th>\n",
       "      <td>1</td>\n",
       "      <td>udaipur</td>\n",
       "      <td>[Masks, Sanitizers (Free), Sanitizers installe...</td>\n",
       "      <td>2158</td>\n",
       "      <td>sohan sadan,near PNB bank, bhuwana by pass cho...</td>\n",
       "    </tr>\n",
       "    <tr>\n",
       "      <th>2</th>\n",
       "      <td>2</td>\n",
       "      <td>Lake</td>\n",
       "      <td>[Parking (Free), Wifi (Free), Elevator/ Lift, ...</td>\n",
       "      <td>7001</td>\n",
       "      <td>850 South US Hwy 27/441</td>\n",
       "    </tr>\n",
       "    <tr>\n",
       "      <th>3</th>\n",
       "      <td>3</td>\n",
       "      <td>Mysore</td>\n",
       "      <td>[Masks (Paid), Disinfectant wipes (Paid), Glov...</td>\n",
       "      <td>1004</td>\n",
       "      <td>15/B, HOTEL THE GRAND VANAM, LOKARANJANMAHAL\\r...</td>\n",
       "    </tr>\n",
       "    <tr>\n",
       "      <th>4</th>\n",
       "      <td>4</td>\n",
       "      <td>Mahabaleshwar</td>\n",
       "      <td>[Masks, Gloves (Paid), Thermal screening at en...</td>\n",
       "      <td>1812</td>\n",
       "      <td>Pan Hill Hotel, Opposite Bus Stand, Panchgani ...</td>\n",
       "    </tr>\n",
       "  </tbody>\n",
       "</table>\n",
       "</div>"
      ],
      "text/plain": [
       "   Unnamed: 0           City  \\\n",
       "0           0          Coorg   \n",
       "1           1        udaipur   \n",
       "2           2           Lake   \n",
       "3           3         Mysore   \n",
       "4           4  Mahabaleshwar   \n",
       "\n",
       "                                           Amenities Price  \\\n",
       "0  [Kitchen/Kitchenette, Housekeeping, Parking (F...  5400   \n",
       "1  [Masks, Sanitizers (Free), Sanitizers installe...  2158   \n",
       "2  [Parking (Free), Wifi (Free), Elevator/ Lift, ...  7001   \n",
       "3  [Masks (Paid), Disinfectant wipes (Paid), Glov...  1004   \n",
       "4  [Masks, Gloves (Paid), Thermal screening at en...  1812   \n",
       "\n",
       "                                             Address  \n",
       "0                 Kootuhole,Galibeedu Road, Madikeri  \n",
       "1  sohan sadan,near PNB bank, bhuwana by pass cho...  \n",
       "2                            850 South US Hwy 27/441  \n",
       "3  15/B, HOTEL THE GRAND VANAM, LOKARANJANMAHAL\\r...  \n",
       "4  Pan Hill Hotel, Opposite Bus Stand, Panchgani ...  "
      ]
     },
     "execution_count": 27,
     "metadata": {},
     "output_type": "execute_result"
    }
   ],
   "source": [
    "hd.head()"
   ]
  },
  {
   "cell_type": "code",
   "execution_count": 34,
   "id": "a8322822-518e-4329-955e-7cdd19b70a4a",
   "metadata": {},
   "outputs": [],
   "source": [
    "def joinwords(data):\n",
    "    itemList=[]\n",
    "    for item in data:\n",
    "        item=item.replace(\"/\",\"\")\n",
    "        item=item.replace(\"(\",\"\").replace(\")\",\"\")\n",
    "        item=item.lower()\n",
    "        item=item.replace(\" \",\"\")\n",
    "        itemList.append(item)\n",
    "    return itemList"
   ]
  },
  {
   "cell_type": "code",
   "execution_count": 35,
   "id": "63370bff-f5a2-4182-8720-71f6fcb6a029",
   "metadata": {},
   "outputs": [
    {
     "data": {
      "text/plain": [
       "['Kitchen/Kitchenette',\n",
       " 'Housekeeping',\n",
       " 'Parking (Free)',\n",
       " 'Room service',\n",
       " 'Dry Cleaning services',\n",
       " 'Newspaper',\n",
       " 'Umbrellas',\n",
       " 'Torch',\n",
       " 'Barbeque',\n",
       " 'Dining Area',\n",
       " 'Safe',\n",
       " 'CCTV',\n",
       " 'Safety and Security',\n",
       " 'Security',\n",
       " 'Caretaker',\n",
       " 'Electrical Sockets',\n",
       " 'Bonfire (Paid)',\n",
       " 'Living Room',\n",
       " 'Seating Area']"
      ]
     },
     "execution_count": 35,
     "metadata": {},
     "output_type": "execute_result"
    }
   ],
   "source": [
    "hd['Amenities'][0]"
   ]
  },
  {
   "cell_type": "code",
   "execution_count": 36,
   "id": "16f82e00-3887-46e1-a44a-c22e5703a208",
   "metadata": {},
   "outputs": [
    {
     "data": {
      "text/plain": [
       "['kitchenkitchenette',\n",
       " 'housekeeping',\n",
       " 'parkingfree',\n",
       " 'roomservice',\n",
       " 'drycleaningservices',\n",
       " 'newspaper',\n",
       " 'umbrellas',\n",
       " 'torch',\n",
       " 'barbeque',\n",
       " 'diningarea',\n",
       " 'safe',\n",
       " 'cctv',\n",
       " 'safetyandsecurity',\n",
       " 'security',\n",
       " 'caretaker',\n",
       " 'electricalsockets',\n",
       " 'bonfirepaid',\n",
       " 'livingroom',\n",
       " 'seatingarea']"
      ]
     },
     "execution_count": 36,
     "metadata": {},
     "output_type": "execute_result"
    }
   ],
   "source": [
    "joinwords(['Kitchen/Kitchenette',\n",
    " 'Housekeeping',\n",
    " 'Parking (Free)',\n",
    " 'Room service',\n",
    " 'Dry Cleaning services',\n",
    " 'Newspaper',\n",
    " 'Umbrellas',\n",
    " 'Torch',\n",
    " 'Barbeque',\n",
    " 'Dining Area',\n",
    " 'Safe',\n",
    " 'CCTV',\n",
    " 'Safety and Security',\n",
    " 'Security',\n",
    " 'Caretaker',\n",
    " 'Electrical Sockets',\n",
    " 'Bonfire (Paid)',\n",
    " 'Living Room',\n",
    " 'Seating Area']\n",
    ")"
   ]
  },
  {
   "cell_type": "code",
   "execution_count": 37,
   "id": "cf4dd8eb-7c34-44c2-ad2b-7f1865ad868d",
   "metadata": {},
   "outputs": [],
   "source": [
    "hd['Amenities']=hd['Amenities'].apply(joinwords)"
   ]
  },
  {
   "cell_type": "code",
   "execution_count": 60,
   "id": "845db3e7-869f-4950-8755-9fa28f830e42",
   "metadata": {},
   "outputs": [
    {
     "data": {
      "text/html": [
       "<div>\n",
       "<style scoped>\n",
       "    .dataframe tbody tr th:only-of-type {\n",
       "        vertical-align: middle;\n",
       "    }\n",
       "\n",
       "    .dataframe tbody tr th {\n",
       "        vertical-align: top;\n",
       "    }\n",
       "\n",
       "    .dataframe thead th {\n",
       "        text-align: right;\n",
       "    }\n",
       "</style>\n",
       "<table border=\"1\" class=\"dataframe\">\n",
       "  <thead>\n",
       "    <tr style=\"text-align: right;\">\n",
       "      <th></th>\n",
       "      <th>Unnamed: 0</th>\n",
       "      <th>Price</th>\n",
       "      <th>Address</th>\n",
       "      <th>tags</th>\n",
       "    </tr>\n",
       "  </thead>\n",
       "  <tbody>\n",
       "    <tr>\n",
       "      <th>0</th>\n",
       "      <td>0</td>\n",
       "      <td>5400</td>\n",
       "      <td>Kootuhole,Galibeedu Road, Madikeri</td>\n",
       "      <td>[coorg, kitchenkitchenette, housekeeping, park...</td>\n",
       "    </tr>\n",
       "    <tr>\n",
       "      <th>1</th>\n",
       "      <td>1</td>\n",
       "      <td>2158</td>\n",
       "      <td>sohan sadan,near PNB bank, bhuwana by pass cho...</td>\n",
       "      <td>[udaipur, masks, sanitizersfree, sanitizersins...</td>\n",
       "    </tr>\n",
       "    <tr>\n",
       "      <th>2</th>\n",
       "      <td>2</td>\n",
       "      <td>7001</td>\n",
       "      <td>850 South US Hwy 27/441</td>\n",
       "      <td>[lake, parkingfree, wififree, elevatorlift, ai...</td>\n",
       "    </tr>\n",
       "    <tr>\n",
       "      <th>3</th>\n",
       "      <td>3</td>\n",
       "      <td>1004</td>\n",
       "      <td>15/B, HOTEL THE GRAND VANAM, LOKARANJANMAHAL\\r...</td>\n",
       "      <td>[mysore, maskspaid, disinfectantwipespaid, glo...</td>\n",
       "    </tr>\n",
       "    <tr>\n",
       "      <th>4</th>\n",
       "      <td>4</td>\n",
       "      <td>1812</td>\n",
       "      <td>Pan Hill Hotel, Opposite Bus Stand, Panchgani ...</td>\n",
       "      <td>[mahabaleshwar, masks, glovespaid, thermalscre...</td>\n",
       "    </tr>\n",
       "  </tbody>\n",
       "</table>\n",
       "</div>"
      ],
      "text/plain": [
       "   Unnamed: 0 Price                                            Address  \\\n",
       "0           0  5400                 Kootuhole,Galibeedu Road, Madikeri   \n",
       "1           1  2158  sohan sadan,near PNB bank, bhuwana by pass cho...   \n",
       "2           2  7001                            850 South US Hwy 27/441   \n",
       "3           3  1004  15/B, HOTEL THE GRAND VANAM, LOKARANJANMAHAL\\r...   \n",
       "4           4  1812  Pan Hill Hotel, Opposite Bus Stand, Panchgani ...   \n",
       "\n",
       "                                                tags  \n",
       "0  [coorg, kitchenkitchenette, housekeeping, park...  \n",
       "1  [udaipur, masks, sanitizersfree, sanitizersins...  \n",
       "2  [lake, parkingfree, wififree, elevatorlift, ai...  \n",
       "3  [mysore, maskspaid, disinfectantwipespaid, glo...  \n",
       "4  [mahabaleshwar, masks, glovespaid, thermalscre...  "
      ]
     },
     "execution_count": 60,
     "metadata": {},
     "output_type": "execute_result"
    }
   ],
   "source": [
    "hd.head()"
   ]
  },
  {
   "cell_type": "code",
   "execution_count": 56,
   "id": "f63b880b-275a-447c-bbda-4b7e30285baf",
   "metadata": {},
   "outputs": [],
   "source": [
    "hd['tags']=hd['tags'].apply(joinwords)"
   ]
  },
  {
   "cell_type": "code",
   "execution_count": 65,
   "id": "4ad84e53-6a99-45cf-b927-b219df8450a3",
   "metadata": {},
   "outputs": [],
   "source": [
    "hd['tags']=hd['tags'].apply(lambda x : \" \".join(x))"
   ]
  },
  {
   "cell_type": "code",
   "execution_count": 66,
   "id": "942e1f81-b3f1-4054-b70d-ee0813235f16",
   "metadata": {},
   "outputs": [
    {
     "data": {
      "text/html": [
       "<div>\n",
       "<style scoped>\n",
       "    .dataframe tbody tr th:only-of-type {\n",
       "        vertical-align: middle;\n",
       "    }\n",
       "\n",
       "    .dataframe tbody tr th {\n",
       "        vertical-align: top;\n",
       "    }\n",
       "\n",
       "    .dataframe thead th {\n",
       "        text-align: right;\n",
       "    }\n",
       "</style>\n",
       "<table border=\"1\" class=\"dataframe\">\n",
       "  <thead>\n",
       "    <tr style=\"text-align: right;\">\n",
       "      <th></th>\n",
       "      <th>Unnamed: 0</th>\n",
       "      <th>Price</th>\n",
       "      <th>Address</th>\n",
       "      <th>tags</th>\n",
       "    </tr>\n",
       "  </thead>\n",
       "  <tbody>\n",
       "    <tr>\n",
       "      <th>0</th>\n",
       "      <td>0</td>\n",
       "      <td>5400</td>\n",
       "      <td>Kootuhole,Galibeedu Road, Madikeri</td>\n",
       "      <td>coorg kitchenkitchenette housekeeping parkingf...</td>\n",
       "    </tr>\n",
       "    <tr>\n",
       "      <th>1</th>\n",
       "      <td>1</td>\n",
       "      <td>2158</td>\n",
       "      <td>sohan sadan,near PNB bank, bhuwana by pass cho...</td>\n",
       "      <td>udaipur masks sanitizersfree sanitizersinstall...</td>\n",
       "    </tr>\n",
       "    <tr>\n",
       "      <th>2</th>\n",
       "      <td>2</td>\n",
       "      <td>7001</td>\n",
       "      <td>850 South US Hwy 27/441</td>\n",
       "      <td>lake parkingfree wififree elevatorlift aircond...</td>\n",
       "    </tr>\n",
       "    <tr>\n",
       "      <th>3</th>\n",
       "      <td>3</td>\n",
       "      <td>1004</td>\n",
       "      <td>15/B, HOTEL THE GRAND VANAM, LOKARANJANMAHAL\\r...</td>\n",
       "      <td>mysore maskspaid disinfectantwipespaid glovesp...</td>\n",
       "    </tr>\n",
       "    <tr>\n",
       "      <th>4</th>\n",
       "      <td>4</td>\n",
       "      <td>1812</td>\n",
       "      <td>Pan Hill Hotel, Opposite Bus Stand, Panchgani ...</td>\n",
       "      <td>mahabaleshwar masks glovespaid thermalscreenin...</td>\n",
       "    </tr>\n",
       "  </tbody>\n",
       "</table>\n",
       "</div>"
      ],
      "text/plain": [
       "   Unnamed: 0 Price                                            Address  \\\n",
       "0           0  5400                 Kootuhole,Galibeedu Road, Madikeri   \n",
       "1           1  2158  sohan sadan,near PNB bank, bhuwana by pass cho...   \n",
       "2           2  7001                            850 South US Hwy 27/441   \n",
       "3           3  1004  15/B, HOTEL THE GRAND VANAM, LOKARANJANMAHAL\\r...   \n",
       "4           4  1812  Pan Hill Hotel, Opposite Bus Stand, Panchgani ...   \n",
       "\n",
       "                                                tags  \n",
       "0  coorg kitchenkitchenette housekeeping parkingf...  \n",
       "1  udaipur masks sanitizersfree sanitizersinstall...  \n",
       "2  lake parkingfree wififree elevatorlift aircond...  \n",
       "3  mysore maskspaid disinfectantwipespaid glovesp...  \n",
       "4  mahabaleshwar masks glovespaid thermalscreenin...  "
      ]
     },
     "execution_count": 66,
     "metadata": {},
     "output_type": "execute_result"
    }
   ],
   "source": [
    "hd.head()"
   ]
  },
  {
   "cell_type": "markdown",
   "id": "f7b75687-ca5d-4d56-b09a-7784ebd8675a",
   "metadata": {},
   "source": [
    "## Model 1"
   ]
  },
  {
   "cell_type": "markdown",
   "id": "31449110-4431-445e-8cfd-104d34ae547f",
   "metadata": {},
   "source": [
    "### using sklearn count vectorizer"
   ]
  },
  {
   "cell_type": "code",
   "execution_count": 58,
   "id": "13bb096b-ef01-42af-baf4-9bcafee9f479",
   "metadata": {},
   "outputs": [],
   "source": [
    "from sklearn.feature_extraction.text import CountVectorizer"
   ]
  },
  {
   "cell_type": "code",
   "execution_count": 59,
   "id": "e6b0f28f-16ee-42fb-8f9c-e6133e0cafae",
   "metadata": {},
   "outputs": [],
   "source": [
    "cv=CountVectorizer(stop_words='english',max_features=2000)"
   ]
  },
  {
   "cell_type": "code",
   "execution_count": 69,
   "id": "c334339c-6417-4253-8644-84efab79b10d",
   "metadata": {},
   "outputs": [],
   "source": [
    "vectors=cv.fit_transform(hd['tags']).toarray()"
   ]
  },
  {
   "cell_type": "code",
   "execution_count": null,
   "id": "00c43857-dbc5-47a3-a4b4-2880aacaaa3f",
   "metadata": {},
   "outputs": [],
   "source": []
  }
 ],
 "metadata": {
  "kernelspec": {
   "display_name": "wedora_model",
   "language": "python",
   "name": "wedora_model"
  },
  "language_info": {
   "codemirror_mode": {
    "name": "ipython",
    "version": 3
   },
   "file_extension": ".py",
   "mimetype": "text/x-python",
   "name": "python",
   "nbconvert_exporter": "python",
   "pygments_lexer": "ipython3",
   "version": "3.12.4"
  }
 },
 "nbformat": 4,
 "nbformat_minor": 5
}
