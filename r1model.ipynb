{
 "cells": [
  {
   "cell_type": "code",
   "execution_count": 1,
   "id": "ec66bb81-56c8-4ab9-89a3-d7fcbde225ac",
   "metadata": {},
   "outputs": [],
   "source": [
    "import pandas as pd"
   ]
  },
  {
   "cell_type": "code",
   "execution_count": 3,
   "id": "ffe00ae2-f5ea-4186-8aca-3ad50b2f3b94",
   "metadata": {},
   "outputs": [
    {
     "data": {
      "text/html": [
       "<div>\n",
       "<style scoped>\n",
       "    .dataframe tbody tr th:only-of-type {\n",
       "        vertical-align: middle;\n",
       "    }\n",
       "\n",
       "    .dataframe tbody tr th {\n",
       "        vertical-align: top;\n",
       "    }\n",
       "\n",
       "    .dataframe thead th {\n",
       "        text-align: right;\n",
       "    }\n",
       "</style>\n",
       "<table border=\"1\" class=\"dataframe\">\n",
       "  <thead>\n",
       "    <tr style=\"text-align: right;\">\n",
       "      <th></th>\n",
       "      <th>3fd66200f964a52000e71ee3</th>\n",
       "      <th>40.733596</th>\n",
       "      <th>-74.003139</th>\n",
       "      <th>Jazz Club</th>\n",
       "      <th>US</th>\n",
       "    </tr>\n",
       "  </thead>\n",
       "  <tbody>\n",
       "    <tr>\n",
       "      <th>0</th>\n",
       "      <td>3fd66200f964a52000e81ee3</td>\n",
       "      <td>40.758102</td>\n",
       "      <td>-73.975734</td>\n",
       "      <td>Gym</td>\n",
       "      <td>US</td>\n",
       "    </tr>\n",
       "    <tr>\n",
       "      <th>1</th>\n",
       "      <td>3fd66200f964a52000ea1ee3</td>\n",
       "      <td>40.732456</td>\n",
       "      <td>-74.003755</td>\n",
       "      <td>Indian Restaurant</td>\n",
       "      <td>US</td>\n",
       "    </tr>\n",
       "    <tr>\n",
       "      <th>2</th>\n",
       "      <td>3fd66200f964a52000ec1ee3</td>\n",
       "      <td>42.345907</td>\n",
       "      <td>-71.087001</td>\n",
       "      <td>Indian Restaurant</td>\n",
       "      <td>US</td>\n",
       "    </tr>\n",
       "    <tr>\n",
       "      <th>3</th>\n",
       "      <td>3fd66200f964a52000ee1ee3</td>\n",
       "      <td>39.933178</td>\n",
       "      <td>-75.159262</td>\n",
       "      <td>Sandwich Place</td>\n",
       "      <td>US</td>\n",
       "    </tr>\n",
       "    <tr>\n",
       "      <th>4</th>\n",
       "      <td>3fd66200f964a52000f11ee3</td>\n",
       "      <td>40.652766</td>\n",
       "      <td>-74.003092</td>\n",
       "      <td>Bowling Alley</td>\n",
       "      <td>US</td>\n",
       "    </tr>\n",
       "  </tbody>\n",
       "</table>\n",
       "</div>"
      ],
      "text/plain": [
       "   3fd66200f964a52000e71ee3  40.733596  -74.003139          Jazz Club  US\n",
       "0  3fd66200f964a52000e81ee3  40.758102  -73.975734                Gym  US\n",
       "1  3fd66200f964a52000ea1ee3  40.732456  -74.003755  Indian Restaurant  US\n",
       "2  3fd66200f964a52000ec1ee3  42.345907  -71.087001  Indian Restaurant  US\n",
       "3  3fd66200f964a52000ee1ee3  39.933178  -75.159262     Sandwich Place  US\n",
       "4  3fd66200f964a52000f11ee3  40.652766  -74.003092      Bowling Alley  US"
      ]
     },
     "execution_count": 3,
     "metadata": {},
     "output_type": "execute_result"
    }
   ],
   "source": [
    "pd.read_table(\"../r1Data/dataset_TIST2015_POIs.txt\",nrows=100).head(5)"
   ]
  },
  {
   "cell_type": "code",
   "execution_count": 7,
   "id": "09ea61c9-5679-442d-8d18-41d720f09338",
   "metadata": {},
   "outputs": [],
   "source": [
    "hd=pd.read_csv(\"../r1Data/Hotel Info.csv\")"
   ]
  },
  {
   "cell_type": "code",
   "execution_count": 17,
   "id": "e4a73510-c0e2-4527-ba64-681a5ffd976f",
   "metadata": {},
   "outputs": [
    {
     "data": {
      "text/plain": [
       "1685    ['Sanitizers', 'Sanitizers installed', 'Power ...\n",
       "Name: Amenities, dtype: object"
      ]
     },
     "execution_count": 17,
     "metadata": {},
     "output_type": "execute_result"
    }
   ],
   "source": [
    "hd.sample(1)['Amenities']"
   ]
  },
  {
   "cell_type": "code",
   "execution_count": 19,
   "id": "a5206ed5-bd23-47d2-aa4a-6afc1c747130",
   "metadata": {},
   "outputs": [
    {
     "data": {
      "text/plain": [
       "<pandas.core.indexing._iLocIndexer at 0x25b4fb1bf20>"
      ]
     },
     "execution_count": 19,
     "metadata": {},
     "output_type": "execute_result"
    }
   ],
   "source": [
    "hd.iloc(0)"
   ]
  },
  {
   "cell_type": "code",
   "execution_count": null,
   "id": "d6e3aa0b-0226-4909-9fd5-8401fafdf7df",
   "metadata": {},
   "outputs": [],
   "source": []
  }
 ],
 "metadata": {
  "kernelspec": {
   "display_name": "wedora_model",
   "language": "python",
   "name": "wedora_model"
  },
  "language_info": {
   "codemirror_mode": {
    "name": "ipython",
    "version": 3
   },
   "file_extension": ".py",
   "mimetype": "text/x-python",
   "name": "python",
   "nbconvert_exporter": "python",
   "pygments_lexer": "ipython3",
   "version": "3.12.4"
  }
 },
 "nbformat": 4,
 "nbformat_minor": 5
}
