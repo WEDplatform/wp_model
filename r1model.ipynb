{
 "cells": [
  {
   "cell_type": "code",
   "execution_count": 20,
   "id": "ec66bb81-56c8-4ab9-89a3-d7fcbde225ac",
   "metadata": {},
   "outputs": [],
   "source": [
    "import pandas as pd"
   ]
  },
  {
   "cell_type": "code",
   "execution_count": 21,
   "id": "e4e9c7ef-b723-4d86-8b79-5923e4339b9e",
   "metadata": {},
   "outputs": [],
   "source": [
    "import ast"
   ]
  },
  {
   "cell_type": "code",
   "execution_count": 70,
   "id": "13ca4dc7-60c2-47d6-852f-7c8e9cc42825",
   "metadata": {},
   "outputs": [],
   "source": [
    "import nltk"
   ]
  },
  {
   "cell_type": "code",
   "execution_count": 72,
   "id": "62c317fe-bd95-4019-8bb6-aa483b12c8d4",
   "metadata": {},
   "outputs": [],
   "source": [
    "from nltk.stem.porter import PorterStemmer"
   ]
  },
  {
   "cell_type": "code",
   "execution_count": 81,
   "id": "686a2756-c870-4be4-a139-a5afc8afffaa",
   "metadata": {},
   "outputs": [],
   "source": [
    "from sklearn.metrics.pairwise import cosine_similarity"
   ]
  },
  {
   "cell_type": "code",
   "execution_count": 73,
   "id": "d2f6805e-c396-4cca-861e-925339ac758e",
   "metadata": {},
   "outputs": [],
   "source": [
    "ps=PorterStemmer()"
   ]
  },
  {
   "cell_type": "code",
   "execution_count": 22,
   "id": "0bc6bdc2-99ea-4a84-b565-bcf6d5b80859",
   "metadata": {},
   "outputs": [],
   "source": [
    "def listConvertor(data):\n",
    "    return ast.literal_eval(data)"
   ]
  },
  {
   "cell_type": "code",
   "execution_count": 74,
   "id": "fcc272ce-adcf-4760-a3b4-927fb8e7f2c3",
   "metadata": {},
   "outputs": [],
   "source": [
    "def stemData(text):\n",
    "    texts=[]\n",
    "    for word in text.split():\n",
    "        texts.append(ps.stem(word))\n",
    "    return \" \".join(texts)"
   ]
  },
  {
   "cell_type": "code",
   "execution_count": 23,
   "id": "b8574c90-3ac0-48a8-9ec1-4bed867c7071",
   "metadata": {},
   "outputs": [],
   "source": [
    "hd=pd.read_csv(\"../r1Data/Hotel Info.csv\")"
   ]
  },
  {
   "cell_type": "code",
   "execution_count": 24,
   "id": "e4a73510-c0e2-4527-ba64-681a5ffd976f",
   "metadata": {},
   "outputs": [],
   "source": [
    "hd.drop(columns=['Code','Latitude','Longitude'],inplace=True)"
   ]
  },
  {
   "cell_type": "code",
   "execution_count": 25,
   "id": "a53679b5-b0c6-444b-9431-76d626f9d021",
   "metadata": {},
   "outputs": [
    {
     "data": {
      "text/plain": [
       "\"['Kitchen/Kitchenette', 'Housekeeping', 'Parking (Free)', 'Room service', 'Dry Cleaning services', 'Newspaper', 'Umbrellas', 'Torch', 'Barbeque', 'Dining Area', 'Safe', 'CCTV', 'Safety and Security', 'Security', 'Caretaker', 'Electrical Sockets', 'Bonfire (Paid)', 'Living Room', 'Seating Area']\""
      ]
     },
     "execution_count": 25,
     "metadata": {},
     "output_type": "execute_result"
    }
   ],
   "source": [
    "hd['Amenities'][0]"
   ]
  },
  {
   "cell_type": "code",
   "execution_count": 26,
   "id": "a5206ed5-bd23-47d2-aa4a-6afc1c747130",
   "metadata": {},
   "outputs": [],
   "source": [
    "hd['Amenities']=hd['Amenities'].apply(lambda x : listConvertor(x))"
   ]
  },
  {
   "cell_type": "code",
   "execution_count": 27,
   "id": "d6e3aa0b-0226-4909-9fd5-8401fafdf7df",
   "metadata": {},
   "outputs": [
    {
     "data": {
      "text/html": [
       "<div>\n",
       "<style scoped>\n",
       "    .dataframe tbody tr th:only-of-type {\n",
       "        vertical-align: middle;\n",
       "    }\n",
       "\n",
       "    .dataframe tbody tr th {\n",
       "        vertical-align: top;\n",
       "    }\n",
       "\n",
       "    .dataframe thead th {\n",
       "        text-align: right;\n",
       "    }\n",
       "</style>\n",
       "<table border=\"1\" class=\"dataframe\">\n",
       "  <thead>\n",
       "    <tr style=\"text-align: right;\">\n",
       "      <th></th>\n",
       "      <th>Unnamed: 0</th>\n",
       "      <th>City</th>\n",
       "      <th>Amenities</th>\n",
       "      <th>Price</th>\n",
       "      <th>Address</th>\n",
       "    </tr>\n",
       "  </thead>\n",
       "  <tbody>\n",
       "    <tr>\n",
       "      <th>0</th>\n",
       "      <td>0</td>\n",
       "      <td>Coorg</td>\n",
       "      <td>[Kitchen/Kitchenette, Housekeeping, Parking (F...</td>\n",
       "      <td>5400</td>\n",
       "      <td>Kootuhole,Galibeedu Road, Madikeri</td>\n",
       "    </tr>\n",
       "    <tr>\n",
       "      <th>1</th>\n",
       "      <td>1</td>\n",
       "      <td>udaipur</td>\n",
       "      <td>[Masks, Sanitizers (Free), Sanitizers installe...</td>\n",
       "      <td>2158</td>\n",
       "      <td>sohan sadan,near PNB bank, bhuwana by pass cho...</td>\n",
       "    </tr>\n",
       "    <tr>\n",
       "      <th>2</th>\n",
       "      <td>2</td>\n",
       "      <td>Lake</td>\n",
       "      <td>[Parking (Free), Wifi (Free), Elevator/ Lift, ...</td>\n",
       "      <td>7001</td>\n",
       "      <td>850 South US Hwy 27/441</td>\n",
       "    </tr>\n",
       "    <tr>\n",
       "      <th>3</th>\n",
       "      <td>3</td>\n",
       "      <td>Mysore</td>\n",
       "      <td>[Masks (Paid), Disinfectant wipes (Paid), Glov...</td>\n",
       "      <td>1004</td>\n",
       "      <td>15/B, HOTEL THE GRAND VANAM, LOKARANJANMAHAL\\r...</td>\n",
       "    </tr>\n",
       "    <tr>\n",
       "      <th>4</th>\n",
       "      <td>4</td>\n",
       "      <td>Mahabaleshwar</td>\n",
       "      <td>[Masks, Gloves (Paid), Thermal screening at en...</td>\n",
       "      <td>1812</td>\n",
       "      <td>Pan Hill Hotel, Opposite Bus Stand, Panchgani ...</td>\n",
       "    </tr>\n",
       "  </tbody>\n",
       "</table>\n",
       "</div>"
      ],
      "text/plain": [
       "   Unnamed: 0           City  \\\n",
       "0           0          Coorg   \n",
       "1           1        udaipur   \n",
       "2           2           Lake   \n",
       "3           3         Mysore   \n",
       "4           4  Mahabaleshwar   \n",
       "\n",
       "                                           Amenities Price  \\\n",
       "0  [Kitchen/Kitchenette, Housekeeping, Parking (F...  5400   \n",
       "1  [Masks, Sanitizers (Free), Sanitizers installe...  2158   \n",
       "2  [Parking (Free), Wifi (Free), Elevator/ Lift, ...  7001   \n",
       "3  [Masks (Paid), Disinfectant wipes (Paid), Glov...  1004   \n",
       "4  [Masks, Gloves (Paid), Thermal screening at en...  1812   \n",
       "\n",
       "                                             Address  \n",
       "0                 Kootuhole,Galibeedu Road, Madikeri  \n",
       "1  sohan sadan,near PNB bank, bhuwana by pass cho...  \n",
       "2                            850 South US Hwy 27/441  \n",
       "3  15/B, HOTEL THE GRAND VANAM, LOKARANJANMAHAL\\r...  \n",
       "4  Pan Hill Hotel, Opposite Bus Stand, Panchgani ...  "
      ]
     },
     "execution_count": 27,
     "metadata": {},
     "output_type": "execute_result"
    }
   ],
   "source": [
    "hd.head()"
   ]
  },
  {
   "cell_type": "code",
   "execution_count": 34,
   "id": "a8322822-518e-4329-955e-7cdd19b70a4a",
   "metadata": {},
   "outputs": [],
   "source": [
    "def joinwords(data):\n",
    "    itemList=[]\n",
    "    for item in data:\n",
    "        item=item.replace(\"/\",\"\")\n",
    "        item=item.replace(\"(\",\"\").replace(\")\",\"\")\n",
    "        item=item.lower()\n",
    "        item=item.replace(\" \",\"\")\n",
    "        itemList.append(item)\n",
    "    return itemList"
   ]
  },
  {
   "cell_type": "code",
   "execution_count": 35,
   "id": "63370bff-f5a2-4182-8720-71f6fcb6a029",
   "metadata": {},
   "outputs": [
    {
     "data": {
      "text/plain": [
       "['Kitchen/Kitchenette',\n",
       " 'Housekeeping',\n",
       " 'Parking (Free)',\n",
       " 'Room service',\n",
       " 'Dry Cleaning services',\n",
       " 'Newspaper',\n",
       " 'Umbrellas',\n",
       " 'Torch',\n",
       " 'Barbeque',\n",
       " 'Dining Area',\n",
       " 'Safe',\n",
       " 'CCTV',\n",
       " 'Safety and Security',\n",
       " 'Security',\n",
       " 'Caretaker',\n",
       " 'Electrical Sockets',\n",
       " 'Bonfire (Paid)',\n",
       " 'Living Room',\n",
       " 'Seating Area']"
      ]
     },
     "execution_count": 35,
     "metadata": {},
     "output_type": "execute_result"
    }
   ],
   "source": [
    "hd['Amenities'][0]"
   ]
  },
  {
   "cell_type": "code",
   "execution_count": 36,
   "id": "16f82e00-3887-46e1-a44a-c22e5703a208",
   "metadata": {},
   "outputs": [
    {
     "data": {
      "text/plain": [
       "['kitchenkitchenette',\n",
       " 'housekeeping',\n",
       " 'parkingfree',\n",
       " 'roomservice',\n",
       " 'drycleaningservices',\n",
       " 'newspaper',\n",
       " 'umbrellas',\n",
       " 'torch',\n",
       " 'barbeque',\n",
       " 'diningarea',\n",
       " 'safe',\n",
       " 'cctv',\n",
       " 'safetyandsecurity',\n",
       " 'security',\n",
       " 'caretaker',\n",
       " 'electricalsockets',\n",
       " 'bonfirepaid',\n",
       " 'livingroom',\n",
       " 'seatingarea']"
      ]
     },
     "execution_count": 36,
     "metadata": {},
     "output_type": "execute_result"
    }
   ],
   "source": [
    "joinwords(['Kitchen/Kitchenette',\n",
    " 'Housekeeping',\n",
    " 'Parking (Free)',\n",
    " 'Room service',\n",
    " 'Dry Cleaning services',\n",
    " 'Newspaper',\n",
    " 'Umbrellas',\n",
    " 'Torch',\n",
    " 'Barbeque',\n",
    " 'Dining Area',\n",
    " 'Safe',\n",
    " 'CCTV',\n",
    " 'Safety and Security',\n",
    " 'Security',\n",
    " 'Caretaker',\n",
    " 'Electrical Sockets',\n",
    " 'Bonfire (Paid)',\n",
    " 'Living Room',\n",
    " 'Seating Area']\n",
    ")"
   ]
  },
  {
   "cell_type": "code",
   "execution_count": 37,
   "id": "cf4dd8eb-7c34-44c2-ad2b-7f1865ad868d",
   "metadata": {},
   "outputs": [],
   "source": [
    "hd['Amenities']=hd['Amenities'].apply(joinwords)"
   ]
  },
  {
   "cell_type": "code",
   "execution_count": 60,
   "id": "845db3e7-869f-4950-8755-9fa28f830e42",
   "metadata": {},
   "outputs": [
    {
     "data": {
      "text/html": [
       "<div>\n",
       "<style scoped>\n",
       "    .dataframe tbody tr th:only-of-type {\n",
       "        vertical-align: middle;\n",
       "    }\n",
       "\n",
       "    .dataframe tbody tr th {\n",
       "        vertical-align: top;\n",
       "    }\n",
       "\n",
       "    .dataframe thead th {\n",
       "        text-align: right;\n",
       "    }\n",
       "</style>\n",
       "<table border=\"1\" class=\"dataframe\">\n",
       "  <thead>\n",
       "    <tr style=\"text-align: right;\">\n",
       "      <th></th>\n",
       "      <th>Unnamed: 0</th>\n",
       "      <th>Price</th>\n",
       "      <th>Address</th>\n",
       "      <th>tags</th>\n",
       "    </tr>\n",
       "  </thead>\n",
       "  <tbody>\n",
       "    <tr>\n",
       "      <th>0</th>\n",
       "      <td>0</td>\n",
       "      <td>5400</td>\n",
       "      <td>Kootuhole,Galibeedu Road, Madikeri</td>\n",
       "      <td>[coorg, kitchenkitchenette, housekeeping, park...</td>\n",
       "    </tr>\n",
       "    <tr>\n",
       "      <th>1</th>\n",
       "      <td>1</td>\n",
       "      <td>2158</td>\n",
       "      <td>sohan sadan,near PNB bank, bhuwana by pass cho...</td>\n",
       "      <td>[udaipur, masks, sanitizersfree, sanitizersins...</td>\n",
       "    </tr>\n",
       "    <tr>\n",
       "      <th>2</th>\n",
       "      <td>2</td>\n",
       "      <td>7001</td>\n",
       "      <td>850 South US Hwy 27/441</td>\n",
       "      <td>[lake, parkingfree, wififree, elevatorlift, ai...</td>\n",
       "    </tr>\n",
       "    <tr>\n",
       "      <th>3</th>\n",
       "      <td>3</td>\n",
       "      <td>1004</td>\n",
       "      <td>15/B, HOTEL THE GRAND VANAM, LOKARANJANMAHAL\\r...</td>\n",
       "      <td>[mysore, maskspaid, disinfectantwipespaid, glo...</td>\n",
       "    </tr>\n",
       "    <tr>\n",
       "      <th>4</th>\n",
       "      <td>4</td>\n",
       "      <td>1812</td>\n",
       "      <td>Pan Hill Hotel, Opposite Bus Stand, Panchgani ...</td>\n",
       "      <td>[mahabaleshwar, masks, glovespaid, thermalscre...</td>\n",
       "    </tr>\n",
       "  </tbody>\n",
       "</table>\n",
       "</div>"
      ],
      "text/plain": [
       "   Unnamed: 0 Price                                            Address  \\\n",
       "0           0  5400                 Kootuhole,Galibeedu Road, Madikeri   \n",
       "1           1  2158  sohan sadan,near PNB bank, bhuwana by pass cho...   \n",
       "2           2  7001                            850 South US Hwy 27/441   \n",
       "3           3  1004  15/B, HOTEL THE GRAND VANAM, LOKARANJANMAHAL\\r...   \n",
       "4           4  1812  Pan Hill Hotel, Opposite Bus Stand, Panchgani ...   \n",
       "\n",
       "                                                tags  \n",
       "0  [coorg, kitchenkitchenette, housekeeping, park...  \n",
       "1  [udaipur, masks, sanitizersfree, sanitizersins...  \n",
       "2  [lake, parkingfree, wififree, elevatorlift, ai...  \n",
       "3  [mysore, maskspaid, disinfectantwipespaid, glo...  \n",
       "4  [mahabaleshwar, masks, glovespaid, thermalscre...  "
      ]
     },
     "execution_count": 60,
     "metadata": {},
     "output_type": "execute_result"
    }
   ],
   "source": [
    "hd.head()"
   ]
  },
  {
   "cell_type": "code",
   "execution_count": 56,
   "id": "f63b880b-275a-447c-bbda-4b7e30285baf",
   "metadata": {},
   "outputs": [],
   "source": [
    "hd['tags']=hd['tags'].apply(joinwords)"
   ]
  },
  {
   "cell_type": "code",
   "execution_count": 65,
   "id": "4ad84e53-6a99-45cf-b927-b219df8450a3",
   "metadata": {},
   "outputs": [],
   "source": [
    "hd['tags']=hd['tags'].apply(lambda x : \" \".join(x))"
   ]
  },
  {
   "cell_type": "code",
   "execution_count": 77,
   "id": "942e1f81-b3f1-4054-b70d-ee0813235f16",
   "metadata": {},
   "outputs": [
    {
     "data": {
      "text/html": [
       "<div>\n",
       "<style scoped>\n",
       "    .dataframe tbody tr th:only-of-type {\n",
       "        vertical-align: middle;\n",
       "    }\n",
       "\n",
       "    .dataframe tbody tr th {\n",
       "        vertical-align: top;\n",
       "    }\n",
       "\n",
       "    .dataframe thead th {\n",
       "        text-align: right;\n",
       "    }\n",
       "</style>\n",
       "<table border=\"1\" class=\"dataframe\">\n",
       "  <thead>\n",
       "    <tr style=\"text-align: right;\">\n",
       "      <th></th>\n",
       "      <th>Unnamed: 0</th>\n",
       "      <th>Price</th>\n",
       "      <th>Address</th>\n",
       "      <th>tags</th>\n",
       "    </tr>\n",
       "  </thead>\n",
       "  <tbody>\n",
       "    <tr>\n",
       "      <th>0</th>\n",
       "      <td>0</td>\n",
       "      <td>5400</td>\n",
       "      <td>Kootuhole,Galibeedu Road, Madikeri</td>\n",
       "      <td>coorg kitchenkitchenett housekeep parkingfre r...</td>\n",
       "    </tr>\n",
       "    <tr>\n",
       "      <th>1</th>\n",
       "      <td>1</td>\n",
       "      <td>2158</td>\n",
       "      <td>sohan sadan,near PNB bank, bhuwana by pass cho...</td>\n",
       "      <td>udaipur mask sanitizersfre sanitizersinstal di...</td>\n",
       "    </tr>\n",
       "    <tr>\n",
       "      <th>2</th>\n",
       "      <td>2</td>\n",
       "      <td>7001</td>\n",
       "      <td>850 South US Hwy 27/441</td>\n",
       "      <td>lake parkingfre wififre elevatorlift aircondit...</td>\n",
       "    </tr>\n",
       "    <tr>\n",
       "      <th>3</th>\n",
       "      <td>3</td>\n",
       "      <td>1004</td>\n",
       "      <td>15/B, HOTEL THE GRAND VANAM, LOKARANJANMAHAL\\r...</td>\n",
       "      <td>mysor maskspaid disinfectantwipespaid glovespa...</td>\n",
       "    </tr>\n",
       "    <tr>\n",
       "      <th>4</th>\n",
       "      <td>4</td>\n",
       "      <td>1812</td>\n",
       "      <td>Pan Hill Hotel, Opposite Bus Stand, Panchgani ...</td>\n",
       "      <td>mahabaleshwar mask glovespaid thermalscreening...</td>\n",
       "    </tr>\n",
       "  </tbody>\n",
       "</table>\n",
       "</div>"
      ],
      "text/plain": [
       "   Unnamed: 0 Price                                            Address  \\\n",
       "0           0  5400                 Kootuhole,Galibeedu Road, Madikeri   \n",
       "1           1  2158  sohan sadan,near PNB bank, bhuwana by pass cho...   \n",
       "2           2  7001                            850 South US Hwy 27/441   \n",
       "3           3  1004  15/B, HOTEL THE GRAND VANAM, LOKARANJANMAHAL\\r...   \n",
       "4           4  1812  Pan Hill Hotel, Opposite Bus Stand, Panchgani ...   \n",
       "\n",
       "                                                tags  \n",
       "0  coorg kitchenkitchenett housekeep parkingfre r...  \n",
       "1  udaipur mask sanitizersfre sanitizersinstal di...  \n",
       "2  lake parkingfre wififre elevatorlift aircondit...  \n",
       "3  mysor maskspaid disinfectantwipespaid glovespa...  \n",
       "4  mahabaleshwar mask glovespaid thermalscreening...  "
      ]
     },
     "execution_count": 77,
     "metadata": {},
     "output_type": "execute_result"
    }
   ],
   "source": [
    "hd.head()"
   ]
  },
  {
   "cell_type": "code",
   "execution_count": 76,
   "id": "11863660-931c-432c-8090-d96569e69344",
   "metadata": {},
   "outputs": [],
   "source": [
    "hd['tags']=hd['tags'].apply(stemData)"
   ]
  },
  {
   "cell_type": "markdown",
   "id": "f7b75687-ca5d-4d56-b09a-7784ebd8675a",
   "metadata": {},
   "source": [
    "## Model 1"
   ]
  },
  {
   "cell_type": "markdown",
   "id": "31449110-4431-445e-8cfd-104d34ae547f",
   "metadata": {},
   "source": [
    "### using sklearn count vectorizer"
   ]
  },
  {
   "cell_type": "code",
   "execution_count": 58,
   "id": "13bb096b-ef01-42af-baf4-9bcafee9f479",
   "metadata": {},
   "outputs": [],
   "source": [
    "from sklearn.feature_extraction.text import CountVectorizer"
   ]
  },
  {
   "cell_type": "code",
   "execution_count": 106,
   "id": "e6b0f28f-16ee-42fb-8f9c-e6133e0cafae",
   "metadata": {},
   "outputs": [],
   "source": [
    "cv=CountVectorizer(stop_words='english',max_features=780)"
   ]
  },
  {
   "cell_type": "code",
   "execution_count": 105,
   "id": "d164b6d9-b548-43e7-8d30-66f9403ef9c3",
   "metadata": {},
   "outputs": [
    {
     "data": {
      "text/plain": [
       "778"
      ]
     },
     "execution_count": 105,
     "metadata": {},
     "output_type": "execute_result"
    }
   ],
   "source": [
    "len(cv.get_feature_names_out())"
   ]
  },
  {
   "cell_type": "code",
   "execution_count": 107,
   "id": "c334339c-6417-4253-8644-84efab79b10d",
   "metadata": {},
   "outputs": [],
   "source": [
    "vectors=cv.fit_transform(hd['tags']).toarray()"
   ]
  },
  {
   "cell_type": "code",
   "execution_count": 108,
   "id": "00c43857-dbc5-47a3-a4b4-2880aacaaa3f",
   "metadata": {},
   "outputs": [],
   "source": [
    "cos_vecotrs=cosine_similarity(vectors)"
   ]
  },
  {
   "cell_type": "code",
   "execution_count": 111,
   "id": "9b0ae515-0275-4955-8851-61d4c170717b",
   "metadata": {},
   "outputs": [
    {
     "data": {
      "text/plain": [
       "array([1.        , 0.25064021, 0.18257419, ..., 0.14301939, 0.22821773,\n",
       "       0.33218192], shape=(11628,))"
      ]
     },
     "execution_count": 111,
     "metadata": {},
     "output_type": "execute_result"
    }
   ],
   "source": [
    "cos_vecotrs[0]"
   ]
  },
  {
   "cell_type": "code",
   "execution_count": 133,
   "id": "366be627-2188-4f2b-9386-6f369802e91d",
   "metadata": {},
   "outputs": [],
   "source": [
    "def getBestHotelMatch(index):\n",
    "    matchIndex=cos_vecotrs[index]\n",
    "    lst=sorted(list(enumerate(cos_vecotrs[0])),key=lambda x : x[1],reverse=True)\n",
    "    lst=lst[1:20]\n",
    "    return lst"
   ]
  },
  {
   "cell_type": "code",
   "execution_count": 134,
   "id": "d87e0d9c-84b6-4cd0-8175-b1169562c06a",
   "metadata": {},
   "outputs": [
    {
     "data": {
      "text/plain": [
       "[(1030, np.float64(0.7050239879106326)),\n",
       " (5343, np.float64(0.7)),\n",
       " (502, np.float64(0.6761234037828131)),\n",
       " (7508, np.float64(0.670820393249937)),\n",
       " (8364, np.float64(0.6708203932499369)),\n",
       " (1178, np.float64(0.6674238124719145)),\n",
       " (9382, np.float64(0.6674238124719145)),\n",
       " (8494, np.float64(0.6643638388299197)),\n",
       " (7834, np.float64(0.6531972647421808)),\n",
       " (11162, np.float64(0.6531972647421808)),\n",
       " (4830, np.float64(0.6527533657682197)),\n",
       " (7749, np.float64(0.6527533657682197)),\n",
       " (2456, np.float64(0.6499999999999999)),\n",
       " (2561, np.float64(0.6499999999999999)),\n",
       " (4030, np.float64(0.6499999999999999)),\n",
       " (11118, np.float64(0.6454972243679029)),\n",
       " (11167, np.float64(0.6454972243679028)),\n",
       " (915, np.float64(0.6425754631219992)),\n",
       " (5597, np.float64(0.6425754631219992))]"
      ]
     },
     "execution_count": 134,
     "metadata": {},
     "output_type": "execute_result"
    }
   ],
   "source": [
    "getBestHotelMatch(0)"
   ]
  },
  {
   "cell_type": "code",
   "execution_count": 136,
   "id": "70178dec-9f50-4a88-b216-5163ec56ee50",
   "metadata": {},
   "outputs": [
    {
     "data": {
      "text/plain": [
       "Unnamed: 0                                                 4830\n",
       "Price                                                      1690\n",
       "Address                  Near clock tower, mall road, mussorrie\n",
       "tags          mussoori sanit housekeep roomservic bathroom w...\n",
       "Name: 4830, dtype: object"
      ]
     },
     "execution_count": 136,
     "metadata": {},
     "output_type": "execute_result"
    }
   ],
   "source": [
    "hd.iloc[4830]"
   ]
  },
  {
   "cell_type": "code",
   "execution_count": null,
   "id": "8a2c2e07-8c06-43f3-8468-4f7d300fd4d7",
   "metadata": {},
   "outputs": [],
   "source": []
  }
 ],
 "metadata": {
  "kernelspec": {
   "display_name": "wedora_model",
   "language": "python",
   "name": "wedora_model"
  },
  "language_info": {
   "codemirror_mode": {
    "name": "ipython",
    "version": 3
   },
   "file_extension": ".py",
   "mimetype": "text/x-python",
   "name": "python",
   "nbconvert_exporter": "python",
   "pygments_lexer": "ipython3",
   "version": "3.12.4"
  }
 },
 "nbformat": 4,
 "nbformat_minor": 5
}
