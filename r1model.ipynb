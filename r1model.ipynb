{
 "cells": [
  {
   "cell_type": "code",
   "execution_count": 1,
   "id": "ec66bb81-56c8-4ab9-89a3-d7fcbde225ac",
   "metadata": {},
   "outputs": [],
   "source": [
    "import pandas as pd"
   ]
  },
  {
   "cell_type": "code",
   "execution_count": 2,
   "id": "e4e9c7ef-b723-4d86-8b79-5923e4339b9e",
   "metadata": {},
   "outputs": [],
   "source": [
    "import ast"
   ]
  },
  {
   "cell_type": "code",
   "execution_count": 3,
   "id": "0bc6bdc2-99ea-4a84-b565-bcf6d5b80859",
   "metadata": {},
   "outputs": [],
   "source": [
    "def listConvertor(data):\n",
    "    return ast.literal_eval(data)"
   ]
  },
  {
   "cell_type": "code",
   "execution_count": 24,
   "id": "ffe00ae2-f5ea-4186-8aca-3ad50b2f3b94",
   "metadata": {},
   "outputs": [
    {
     "data": {
      "text/plain": [
       "['a', 'b']"
      ]
     },
     "execution_count": 24,
     "metadata": {},
     "output_type": "execute_result"
    }
   ],
   "source": [
    "listConvertor(\"['a','b']\")"
   ]
  },
  {
   "cell_type": "code",
   "execution_count": 16,
   "id": "09ea61c9-5679-442d-8d18-41d720f09338",
   "metadata": {},
   "outputs": [],
   "source": [
    "hd=pd.read_csv(\"../r1Data/Hotel Info.csv\")"
   ]
  },
  {
   "cell_type": "code",
   "execution_count": 17,
   "id": "e4a73510-c0e2-4527-ba64-681a5ffd976f",
   "metadata": {},
   "outputs": [],
   "source": [
    "hd.drop(columns=['Code','Latitude','Longitude'],inplace=True)"
   ]
  },
  {
   "cell_type": "code",
   "execution_count": 23,
   "id": "a53679b5-b0c6-444b-9431-76d626f9d021",
   "metadata": {},
   "outputs": [
    {
     "data": {
      "text/plain": [
       "\"['Kitchen/Kitchenette', 'Housekeeping', 'Parking (Free)', 'Room service', 'Dry Cleaning services', 'Newspaper', 'Umbrellas', 'Torch', 'Barbeque', 'Dining Area', 'Safe', 'CCTV', 'Safety and Security', 'Security', 'Caretaker', 'Electrical Sockets', 'Bonfire (Paid)', 'Living Room', 'Seating Area']\""
      ]
     },
     "execution_count": 23,
     "metadata": {},
     "output_type": "execute_result"
    }
   ],
   "source": [
    "hd['Amenities'][0]"
   ]
  },
  {
   "cell_type": "code",
   "execution_count": 27,
   "id": "a5206ed5-bd23-47d2-aa4a-6afc1c747130",
   "metadata": {},
   "outputs": [],
   "source": [
    "hd['Amenities']=hd['Amenities'].apply(lambda x : \" \".join(listConvertor(x)))"
   ]
  },
  {
   "cell_type": "code",
   "execution_count": 29,
   "id": "d6e3aa0b-0226-4909-9fd5-8401fafdf7df",
   "metadata": {},
   "outputs": [
    {
     "data": {
      "text/html": [
       "<div>\n",
       "<style scoped>\n",
       "    .dataframe tbody tr th:only-of-type {\n",
       "        vertical-align: middle;\n",
       "    }\n",
       "\n",
       "    .dataframe tbody tr th {\n",
       "        vertical-align: top;\n",
       "    }\n",
       "\n",
       "    .dataframe thead th {\n",
       "        text-align: right;\n",
       "    }\n",
       "</style>\n",
       "<table border=\"1\" class=\"dataframe\">\n",
       "  <thead>\n",
       "    <tr style=\"text-align: right;\">\n",
       "      <th></th>\n",
       "      <th>Unnamed: 0</th>\n",
       "      <th>City</th>\n",
       "      <th>Amenities</th>\n",
       "      <th>Price</th>\n",
       "      <th>Address</th>\n",
       "    </tr>\n",
       "  </thead>\n",
       "  <tbody>\n",
       "    <tr>\n",
       "      <th>0</th>\n",
       "      <td>0</td>\n",
       "      <td>Coorg</td>\n",
       "      <td>Kitchen/Kitchenette Housekeeping Parking (Free...</td>\n",
       "      <td>5400</td>\n",
       "      <td>Kootuhole,Galibeedu Road, Madikeri</td>\n",
       "    </tr>\n",
       "    <tr>\n",
       "      <th>1</th>\n",
       "      <td>1</td>\n",
       "      <td>udaipur</td>\n",
       "      <td>Masks Sanitizers (Free) Sanitizers installed D...</td>\n",
       "      <td>2158</td>\n",
       "      <td>sohan sadan,near PNB bank, bhuwana by pass cho...</td>\n",
       "    </tr>\n",
       "    <tr>\n",
       "      <th>2</th>\n",
       "      <td>2</td>\n",
       "      <td>Lake</td>\n",
       "      <td>Parking (Free) Wifi (Free) Elevator/ Lift Air ...</td>\n",
       "      <td>7001</td>\n",
       "      <td>850 South US Hwy 27/441</td>\n",
       "    </tr>\n",
       "    <tr>\n",
       "      <th>3</th>\n",
       "      <td>3</td>\n",
       "      <td>Mysore</td>\n",
       "      <td>Masks (Paid) Disinfectant wipes (Paid) Gloves ...</td>\n",
       "      <td>1004</td>\n",
       "      <td>15/B, HOTEL THE GRAND VANAM, LOKARANJANMAHAL\\r...</td>\n",
       "    </tr>\n",
       "    <tr>\n",
       "      <th>4</th>\n",
       "      <td>4</td>\n",
       "      <td>Mahabaleshwar</td>\n",
       "      <td>Masks Gloves (Paid) Thermal screening at entry...</td>\n",
       "      <td>1812</td>\n",
       "      <td>Pan Hill Hotel, Opposite Bus Stand, Panchgani ...</td>\n",
       "    </tr>\n",
       "  </tbody>\n",
       "</table>\n",
       "</div>"
      ],
      "text/plain": [
       "   Unnamed: 0           City  \\\n",
       "0           0          Coorg   \n",
       "1           1        udaipur   \n",
       "2           2           Lake   \n",
       "3           3         Mysore   \n",
       "4           4  Mahabaleshwar   \n",
       "\n",
       "                                           Amenities Price  \\\n",
       "0  Kitchen/Kitchenette Housekeeping Parking (Free...  5400   \n",
       "1  Masks Sanitizers (Free) Sanitizers installed D...  2158   \n",
       "2  Parking (Free) Wifi (Free) Elevator/ Lift Air ...  7001   \n",
       "3  Masks (Paid) Disinfectant wipes (Paid) Gloves ...  1004   \n",
       "4  Masks Gloves (Paid) Thermal screening at entry...  1812   \n",
       "\n",
       "                                             Address  \n",
       "0                 Kootuhole,Galibeedu Road, Madikeri  \n",
       "1  sohan sadan,near PNB bank, bhuwana by pass cho...  \n",
       "2                            850 South US Hwy 27/441  \n",
       "3  15/B, HOTEL THE GRAND VANAM, LOKARANJANMAHAL\\r...  \n",
       "4  Pan Hill Hotel, Opposite Bus Stand, Panchgani ...  "
      ]
     },
     "execution_count": 29,
     "metadata": {},
     "output_type": "execute_result"
    }
   ],
   "source": [
    "hd.head()"
   ]
  },
  {
   "cell_type": "code",
   "execution_count": 31,
   "id": "bab5c222-183c-475e-937d-78d83dc88c74",
   "metadata": {},
   "outputs": [
    {
     "data": {
      "text/plain": [
       "'Parking Free Wifi Free'"
      ]
     },
     "execution_count": 31,
     "metadata": {},
     "output_type": "execute_result"
    }
   ],
   "source": [
    "\"Parking (Free) Wifi (Free)\".replace(\"(\",\"\").replace(\")\",\"\")"
   ]
  },
  {
   "cell_type": "code",
   "execution_count": 32,
   "id": "7044d504-bf6a-40d4-87fb-99ccf045da62",
   "metadata": {},
   "outputs": [
    {
     "data": {
      "text/plain": [
       "0        Kitchen/Kitchenette Housekeeping Parking Free ...\n",
       "1        Masks Sanitizers Free Sanitizers installed Dis...\n",
       "2        Parking Free Wifi Free Elevator/ Lift Air Cond...\n",
       "3        Masks Paid Disinfectant wipes Paid Gloves Paid...\n",
       "4        Masks Gloves Paid Thermal screening at entry a...\n",
       "                               ...                        \n",
       "11623    Sanitizers Parking Free Room service 24 hours ...\n",
       "11624    Masks Gloves Sanitizers Kitchen/Kitchenette Co...\n",
       "11625    Sanitizers Parking Free Elevator/ Lift Air Con...\n",
       "11626    Air Conditioning Room service Wifi Smoke detec...\n",
       "11627    Sanitizers Parking Free Wifi Free Elevator/ Li...\n",
       "Name: Amenities, Length: 11628, dtype: object"
      ]
     },
     "execution_count": 32,
     "metadata": {},
     "output_type": "execute_result"
    }
   ],
   "source": [
    "hd['Amenities'].apply(lambda x : x.replace(\"(\",\"\").replace(\")\",\"\"))"
   ]
  },
  {
   "cell_type": "code",
   "execution_count": null,
   "id": "3bd4190c-6330-43ee-976c-bed997dcc01d",
   "metadata": {},
   "outputs": [],
   "source": [
    "hd['Amenities'].apply(lambda x : x.replace(\"/\",\"\").replace(\")\",\"\"))"
   ]
  }
 ],
 "metadata": {
  "kernelspec": {
   "display_name": "wedora_model",
   "language": "python",
   "name": "wedora_model"
  },
  "language_info": {
   "codemirror_mode": {
    "name": "ipython",
    "version": 3
   },
   "file_extension": ".py",
   "mimetype": "text/x-python",
   "name": "python",
   "nbconvert_exporter": "python",
   "pygments_lexer": "ipython3",
   "version": "3.12.4"
  }
 },
 "nbformat": 4,
 "nbformat_minor": 5
}
