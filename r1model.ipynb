{
 "cells": [
  {
   "cell_type": "code",
   "execution_count": 1,
   "id": "ec66bb81-56c8-4ab9-89a3-d7fcbde225ac",
   "metadata": {},
   "outputs": [],
   "source": [
    "import pandas as pd"
   ]
  },
  {
   "cell_type": "code",
   "execution_count": 2,
   "id": "e4e9c7ef-b723-4d86-8b79-5923e4339b9e",
   "metadata": {},
   "outputs": [],
   "source": [
    "import ast"
   ]
  },
  {
   "cell_type": "code",
   "execution_count": 3,
   "id": "0bc6bdc2-99ea-4a84-b565-bcf6d5b80859",
   "metadata": {},
   "outputs": [],
   "source": [
    "def listConvertor(data):\n",
    "    return ast.literal_eval(data)"
   ]
  },
  {
   "cell_type": "code",
   "execution_count": 21,
   "id": "ffe00ae2-f5ea-4186-8aca-3ad50b2f3b94",
   "metadata": {},
   "outputs": [
    {
     "ename": "SyntaxError",
     "evalue": "invalid syntax. Perhaps you forgot a comma? (1062737499.py, line 1)",
     "output_type": "error",
     "traceback": [
      "\u001b[1;36m  Cell \u001b[1;32mIn[21], line 1\u001b[1;36m\u001b[0m\n\u001b[1;33m    listConvertor('['a','b']')\u001b[0m\n\u001b[1;37m                  ^\u001b[0m\n\u001b[1;31mSyntaxError\u001b[0m\u001b[1;31m:\u001b[0m invalid syntax. Perhaps you forgot a comma?\n"
     ]
    }
   ],
   "source": [
    "listConvertor('['a','b']')"
   ]
  },
  {
   "cell_type": "code",
   "execution_count": 16,
   "id": "09ea61c9-5679-442d-8d18-41d720f09338",
   "metadata": {},
   "outputs": [],
   "source": [
    "hd=pd.read_csv(\"../r1Data/Hotel Info.csv\")"
   ]
  },
  {
   "cell_type": "code",
   "execution_count": 17,
   "id": "e4a73510-c0e2-4527-ba64-681a5ffd976f",
   "metadata": {},
   "outputs": [],
   "source": [
    "hd.drop(columns=['Code','Latitude','Longitude'],inplace=True)"
   ]
  },
  {
   "cell_type": "code",
   "execution_count": 18,
   "id": "a53679b5-b0c6-444b-9431-76d626f9d021",
   "metadata": {},
   "outputs": [
    {
     "data": {
      "text/html": [
       "<div>\n",
       "<style scoped>\n",
       "    .dataframe tbody tr th:only-of-type {\n",
       "        vertical-align: middle;\n",
       "    }\n",
       "\n",
       "    .dataframe tbody tr th {\n",
       "        vertical-align: top;\n",
       "    }\n",
       "\n",
       "    .dataframe thead th {\n",
       "        text-align: right;\n",
       "    }\n",
       "</style>\n",
       "<table border=\"1\" class=\"dataframe\">\n",
       "  <thead>\n",
       "    <tr style=\"text-align: right;\">\n",
       "      <th></th>\n",
       "      <th>Unnamed: 0</th>\n",
       "      <th>City</th>\n",
       "      <th>Amenities</th>\n",
       "      <th>Price</th>\n",
       "      <th>Address</th>\n",
       "    </tr>\n",
       "  </thead>\n",
       "  <tbody>\n",
       "    <tr>\n",
       "      <th>0</th>\n",
       "      <td>0</td>\n",
       "      <td>Coorg</td>\n",
       "      <td>['Kitchen/Kitchenette', 'Housekeeping', 'Parki...</td>\n",
       "      <td>5400</td>\n",
       "      <td>Kootuhole,Galibeedu Road, Madikeri</td>\n",
       "    </tr>\n",
       "    <tr>\n",
       "      <th>1</th>\n",
       "      <td>1</td>\n",
       "      <td>udaipur</td>\n",
       "      <td>['Masks', 'Sanitizers (Free)', 'Sanitizers ins...</td>\n",
       "      <td>2158</td>\n",
       "      <td>sohan sadan,near PNB bank, bhuwana by pass cho...</td>\n",
       "    </tr>\n",
       "    <tr>\n",
       "      <th>2</th>\n",
       "      <td>2</td>\n",
       "      <td>Lake</td>\n",
       "      <td>['Parking (Free)', 'Wifi (Free)', 'Elevator/ L...</td>\n",
       "      <td>7001</td>\n",
       "      <td>850 South US Hwy 27/441</td>\n",
       "    </tr>\n",
       "    <tr>\n",
       "      <th>3</th>\n",
       "      <td>3</td>\n",
       "      <td>Mysore</td>\n",
       "      <td>['Masks (Paid)', 'Disinfectant wipes (Paid)', ...</td>\n",
       "      <td>1004</td>\n",
       "      <td>15/B, HOTEL THE GRAND VANAM, LOKARANJANMAHAL\\r...</td>\n",
       "    </tr>\n",
       "    <tr>\n",
       "      <th>4</th>\n",
       "      <td>4</td>\n",
       "      <td>Mahabaleshwar</td>\n",
       "      <td>['Masks', 'Gloves (Paid)', 'Thermal screening ...</td>\n",
       "      <td>1812</td>\n",
       "      <td>Pan Hill Hotel, Opposite Bus Stand, Panchgani ...</td>\n",
       "    </tr>\n",
       "    <tr>\n",
       "      <th>...</th>\n",
       "      <td>...</td>\n",
       "      <td>...</td>\n",
       "      <td>...</td>\n",
       "      <td>...</td>\n",
       "      <td>...</td>\n",
       "    </tr>\n",
       "    <tr>\n",
       "      <th>11623</th>\n",
       "      <td>11623</td>\n",
       "      <td>Jodhpur</td>\n",
       "      <td>['Sanitizers', 'Parking (Free)', 'Room service...</td>\n",
       "      <td>467</td>\n",
       "      <td>155, Nai Sarak, Clock Tower Road, jodhpur</td>\n",
       "    </tr>\n",
       "    <tr>\n",
       "      <th>11624</th>\n",
       "      <td>11624</td>\n",
       "      <td>Nainital</td>\n",
       "      <td>['Masks', 'Gloves', 'Sanitizers', 'Kitchen/Kit...</td>\n",
       "      <td>3026</td>\n",
       "      <td>Opposite Nainital Club, Near High Court, Naini...</td>\n",
       "    </tr>\n",
       "    <tr>\n",
       "      <th>11625</th>\n",
       "      <td>11625</td>\n",
       "      <td>Rishikesh</td>\n",
       "      <td>['Sanitizers', 'Parking (Free)', 'Elevator/ Li...</td>\n",
       "      <td>4000</td>\n",
       "      <td>KHASRA NO 27 A BEHIND DECON VALLEY, TAPOVAN</td>\n",
       "    </tr>\n",
       "    <tr>\n",
       "      <th>11626</th>\n",
       "      <td>11626</td>\n",
       "      <td>Mumbai</td>\n",
       "      <td>['Air Conditioning', 'Room service', 'Wifi', '...</td>\n",
       "      <td>4859</td>\n",
       "      <td>Ginger Mumbai Andheri Teli Gali Road Andheri E...</td>\n",
       "    </tr>\n",
       "    <tr>\n",
       "      <th>11627</th>\n",
       "      <td>11627</td>\n",
       "      <td>Jabalpur</td>\n",
       "      <td>['Sanitizers', 'Parking (Free)', 'Wifi (Free)'...</td>\n",
       "      <td>1324</td>\n",
       "      <td>Sun Palace, Syndicate Tower, Above Bhatia Tyre...</td>\n",
       "    </tr>\n",
       "  </tbody>\n",
       "</table>\n",
       "<p>11628 rows × 5 columns</p>\n",
       "</div>"
      ],
      "text/plain": [
       "       Unnamed: 0           City  \\\n",
       "0               0          Coorg   \n",
       "1               1        udaipur   \n",
       "2               2           Lake   \n",
       "3               3         Mysore   \n",
       "4               4  Mahabaleshwar   \n",
       "...           ...            ...   \n",
       "11623       11623        Jodhpur   \n",
       "11624       11624       Nainital   \n",
       "11625       11625      Rishikesh   \n",
       "11626       11626         Mumbai   \n",
       "11627       11627       Jabalpur   \n",
       "\n",
       "                                               Amenities Price  \\\n",
       "0      ['Kitchen/Kitchenette', 'Housekeeping', 'Parki...  5400   \n",
       "1      ['Masks', 'Sanitizers (Free)', 'Sanitizers ins...  2158   \n",
       "2      ['Parking (Free)', 'Wifi (Free)', 'Elevator/ L...  7001   \n",
       "3      ['Masks (Paid)', 'Disinfectant wipes (Paid)', ...  1004   \n",
       "4      ['Masks', 'Gloves (Paid)', 'Thermal screening ...  1812   \n",
       "...                                                  ...   ...   \n",
       "11623  ['Sanitizers', 'Parking (Free)', 'Room service...   467   \n",
       "11624  ['Masks', 'Gloves', 'Sanitizers', 'Kitchen/Kit...  3026   \n",
       "11625  ['Sanitizers', 'Parking (Free)', 'Elevator/ Li...  4000   \n",
       "11626  ['Air Conditioning', 'Room service', 'Wifi', '...  4859   \n",
       "11627  ['Sanitizers', 'Parking (Free)', 'Wifi (Free)'...  1324   \n",
       "\n",
       "                                                 Address  \n",
       "0                     Kootuhole,Galibeedu Road, Madikeri  \n",
       "1      sohan sadan,near PNB bank, bhuwana by pass cho...  \n",
       "2                                850 South US Hwy 27/441  \n",
       "3      15/B, HOTEL THE GRAND VANAM, LOKARANJANMAHAL\\r...  \n",
       "4      Pan Hill Hotel, Opposite Bus Stand, Panchgani ...  \n",
       "...                                                  ...  \n",
       "11623          155, Nai Sarak, Clock Tower Road, jodhpur  \n",
       "11624  Opposite Nainital Club, Near High Court, Naini...  \n",
       "11625        KHASRA NO 27 A BEHIND DECON VALLEY, TAPOVAN  \n",
       "11626  Ginger Mumbai Andheri Teli Gali Road Andheri E...  \n",
       "11627  Sun Palace, Syndicate Tower, Above Bhatia Tyre...  \n",
       "\n",
       "[11628 rows x 5 columns]"
      ]
     },
     "execution_count": 18,
     "metadata": {},
     "output_type": "execute_result"
    }
   ],
   "source": [
    "hd"
   ]
  },
  {
   "cell_type": "code",
   "execution_count": 20,
   "id": "a5206ed5-bd23-47d2-aa4a-6afc1c747130",
   "metadata": {},
   "outputs": [
    {
     "data": {
      "text/plain": [
       "0        ['Kitchen/Kitchenette', 'Housekeeping', 'Parki...\n",
       "1        ['Masks', 'Sanitizers (Free)', 'Sanitizers ins...\n",
       "2        ['Parking (Free)', 'Wifi (Free)', 'Elevator/ L...\n",
       "3        ['Masks (Paid)', 'Disinfectant wipes (Paid)', ...\n",
       "4        ['Masks', 'Gloves (Paid)', 'Thermal screening ...\n",
       "                               ...                        \n",
       "11623    ['Sanitizers', 'Parking (Free)', 'Room service...\n",
       "11624    ['Masks', 'Gloves', 'Sanitizers', 'Kitchen/Kit...\n",
       "11625    ['Sanitizers', 'Parking (Free)', 'Elevator/ Li...\n",
       "11626    ['Air Conditioning', 'Room service', 'Wifi', '...\n",
       "11627    ['Sanitizers', 'Parking (Free)', 'Wifi (Free)'...\n",
       "Name: Amenities, Length: 11628, dtype: object"
      ]
     },
     "execution_count": 20,
     "metadata": {},
     "output_type": "execute_result"
    }
   ],
   "source": [
    "hd['Amenities'].apply(lambda x : \"\".join(x))"
   ]
  },
  {
   "cell_type": "code",
   "execution_count": 15,
   "id": "d6e3aa0b-0226-4909-9fd5-8401fafdf7df",
   "metadata": {},
   "outputs": [
    {
     "data": {
      "text/html": [
       "<div>\n",
       "<style scoped>\n",
       "    .dataframe tbody tr th:only-of-type {\n",
       "        vertical-align: middle;\n",
       "    }\n",
       "\n",
       "    .dataframe tbody tr th {\n",
       "        vertical-align: top;\n",
       "    }\n",
       "\n",
       "    .dataframe thead th {\n",
       "        text-align: right;\n",
       "    }\n",
       "</style>\n",
       "<table border=\"1\" class=\"dataframe\">\n",
       "  <thead>\n",
       "    <tr style=\"text-align: right;\">\n",
       "      <th></th>\n",
       "      <th>Amenities</th>\n",
       "    </tr>\n",
       "  </thead>\n",
       "  <tbody>\n",
       "    <tr>\n",
       "      <th>0</th>\n",
       "      <td>['Kitchen/Kitchenette', 'Housekeeping', 'Parki...</td>\n",
       "    </tr>\n",
       "    <tr>\n",
       "      <th>1</th>\n",
       "      <td>['Kitchen/Kitchenette', 'Housekeeping', 'Parki...</td>\n",
       "    </tr>\n",
       "    <tr>\n",
       "      <th>2</th>\n",
       "      <td>['Kitchen/Kitchenette', 'Housekeeping', 'Parki...</td>\n",
       "    </tr>\n",
       "    <tr>\n",
       "      <th>3</th>\n",
       "      <td>['Kitchen/Kitchenette', 'Housekeeping', 'Parki...</td>\n",
       "    </tr>\n",
       "    <tr>\n",
       "      <th>4</th>\n",
       "      <td>['Kitchen/Kitchenette', 'Housekeeping', 'Parki...</td>\n",
       "    </tr>\n",
       "    <tr>\n",
       "      <th>...</th>\n",
       "      <td>...</td>\n",
       "    </tr>\n",
       "    <tr>\n",
       "      <th>11623</th>\n",
       "      <td>['Kitchen/Kitchenette', 'Housekeeping', 'Parki...</td>\n",
       "    </tr>\n",
       "    <tr>\n",
       "      <th>11624</th>\n",
       "      <td>['Kitchen/Kitchenette', 'Housekeeping', 'Parki...</td>\n",
       "    </tr>\n",
       "    <tr>\n",
       "      <th>11625</th>\n",
       "      <td>['Kitchen/Kitchenette', 'Housekeeping', 'Parki...</td>\n",
       "    </tr>\n",
       "    <tr>\n",
       "      <th>11626</th>\n",
       "      <td>['Kitchen/Kitchenette', 'Housekeeping', 'Parki...</td>\n",
       "    </tr>\n",
       "    <tr>\n",
       "      <th>11627</th>\n",
       "      <td>['Kitchen/Kitchenette', 'Housekeeping', 'Parki...</td>\n",
       "    </tr>\n",
       "  </tbody>\n",
       "</table>\n",
       "<p>11628 rows × 1 columns</p>\n",
       "</div>"
      ],
      "text/plain": [
       "                                               Amenities\n",
       "0      ['Kitchen/Kitchenette', 'Housekeeping', 'Parki...\n",
       "1      ['Kitchen/Kitchenette', 'Housekeeping', 'Parki...\n",
       "2      ['Kitchen/Kitchenette', 'Housekeeping', 'Parki...\n",
       "3      ['Kitchen/Kitchenette', 'Housekeeping', 'Parki...\n",
       "4      ['Kitchen/Kitchenette', 'Housekeeping', 'Parki...\n",
       "...                                                  ...\n",
       "11623  ['Kitchen/Kitchenette', 'Housekeeping', 'Parki...\n",
       "11624  ['Kitchen/Kitchenette', 'Housekeeping', 'Parki...\n",
       "11625  ['Kitchen/Kitchenette', 'Housekeeping', 'Parki...\n",
       "11626  ['Kitchen/Kitchenette', 'Housekeeping', 'Parki...\n",
       "11627  ['Kitchen/Kitchenette', 'Housekeeping', 'Parki...\n",
       "\n",
       "[11628 rows x 1 columns]"
      ]
     },
     "execution_count": 15,
     "metadata": {},
     "output_type": "execute_result"
    }
   ],
   "source": [
    "hd[['Amenities']]"
   ]
  },
  {
   "cell_type": "code",
   "execution_count": null,
   "id": "bab5c222-183c-475e-937d-78d83dc88c74",
   "metadata": {},
   "outputs": [],
   "source": []
  }
 ],
 "metadata": {
  "kernelspec": {
   "display_name": "wedora_model",
   "language": "python",
   "name": "wedora_model"
  },
  "language_info": {
   "codemirror_mode": {
    "name": "ipython",
    "version": 3
   },
   "file_extension": ".py",
   "mimetype": "text/x-python",
   "name": "python",
   "nbconvert_exporter": "python",
   "pygments_lexer": "ipython3",
   "version": "3.12.4"
  }
 },
 "nbformat": 4,
 "nbformat_minor": 5
}
