{
 "cells": [
  {
   "cell_type": "code",
   "execution_count": 2,
   "id": "4b444282-fa71-4db8-bd2e-912c235579f7",
   "metadata": {},
   "outputs": [],
   "source": [
    "import numpy as np\n",
    "import pandas as pd"
   ]
  },
  {
   "cell_type": "code",
   "execution_count": 4,
   "id": "dd388ae3-0eeb-41e0-95a4-831e2dab0912",
   "metadata": {},
   "outputs": [],
   "source": [
    "df1=pd.read_csv(\"../r2Data/user_vendor_series_data.csv\")"
   ]
  },
  {
   "cell_type": "markdown",
   "id": "8c983b71-837c-40b5-81b8-8841a86c5c5a",
   "metadata": {},
   "source": [
    "## Buliding basic collaborative model"
   ]
  },
  {
   "cell_type": "code",
   "execution_count": 13,
   "id": "55763bc8-5ed4-48c3-82f3-71fbb061d9cf",
   "metadata": {},
   "outputs": [],
   "source": [
    "df1.drop(columns=['date','state','postal_code','stars_y'],inplace=True)"
   ]
  },
  {
   "cell_type": "code",
   "execution_count": 14,
   "id": "4ca29e80-58b2-49a8-bcde-6168a9d19c7a",
   "metadata": {},
   "outputs": [
    {
     "data": {
      "text/html": [
       "<div>\n",
       "<style scoped>\n",
       "    .dataframe tbody tr th:only-of-type {\n",
       "        vertical-align: middle;\n",
       "    }\n",
       "\n",
       "    .dataframe tbody tr th {\n",
       "        vertical-align: top;\n",
       "    }\n",
       "\n",
       "    .dataframe thead th {\n",
       "        text-align: right;\n",
       "    }\n",
       "</style>\n",
       "<table border=\"1\" class=\"dataframe\">\n",
       "  <thead>\n",
       "    <tr style=\"text-align: right;\">\n",
       "      <th></th>\n",
       "      <th>user_id</th>\n",
       "      <th>business_id</th>\n",
       "      <th>stars_x</th>\n",
       "      <th>useful</th>\n",
       "      <th>funny</th>\n",
       "      <th>cool</th>\n",
       "      <th>text</th>\n",
       "      <th>name</th>\n",
       "      <th>address</th>\n",
       "      <th>city</th>\n",
       "      <th>latitude</th>\n",
       "      <th>longitude</th>\n",
       "      <th>review_count</th>\n",
       "      <th>is_open</th>\n",
       "      <th>categories</th>\n",
       "    </tr>\n",
       "  </thead>\n",
       "  <tbody>\n",
       "    <tr>\n",
       "      <th>0</th>\n",
       "      <td>mh_-eMZ6K5RLWhZyISBhwA</td>\n",
       "      <td>XQfwVwDr-v0ZS3_CbbE5Xw</td>\n",
       "      <td>3</td>\n",
       "      <td>0</td>\n",
       "      <td>0</td>\n",
       "      <td>0</td>\n",
       "      <td>If you decide to eat here, just be aware it is...</td>\n",
       "      <td>Turning Point of North Wales</td>\n",
       "      <td>1460 Bethlehem Pike</td>\n",
       "      <td>North Wales</td>\n",
       "      <td>40.210196</td>\n",
       "      <td>-75.223639</td>\n",
       "      <td>169</td>\n",
       "      <td>1</td>\n",
       "      <td>Restaurants, Breakfast &amp; Brunch, Food, Juice B...</td>\n",
       "    </tr>\n",
       "    <tr>\n",
       "      <th>1</th>\n",
       "      <td>OyoGAe7OKpv6SyGZT5g77Q</td>\n",
       "      <td>7ATYjTIgM3jUlt4UM3IypQ</td>\n",
       "      <td>5</td>\n",
       "      <td>1</td>\n",
       "      <td>0</td>\n",
       "      <td>1</td>\n",
       "      <td>I've taken a lot of spin classes over the year...</td>\n",
       "      <td>Body Cycle Spinning Studio</td>\n",
       "      <td>1923 Chestnut St, 2nd Fl</td>\n",
       "      <td>Philadelphia</td>\n",
       "      <td>39.952103</td>\n",
       "      <td>-75.172753</td>\n",
       "      <td>144</td>\n",
       "      <td>0</td>\n",
       "      <td>Active Life, Cycling Classes, Trainers, Gyms, ...</td>\n",
       "    </tr>\n",
       "    <tr>\n",
       "      <th>2</th>\n",
       "      <td>8g_iMtfSiwikVnbP2etR0A</td>\n",
       "      <td>YjUWPpI6HXG530lwP-fb2A</td>\n",
       "      <td>3</td>\n",
       "      <td>0</td>\n",
       "      <td>0</td>\n",
       "      <td>0</td>\n",
       "      <td>Family diner. Had the buffet. Eclectic assortm...</td>\n",
       "      <td>Kettle Restaurant</td>\n",
       "      <td>748 W Starr Pass Blvd</td>\n",
       "      <td>Tucson</td>\n",
       "      <td>32.207233</td>\n",
       "      <td>-110.980864</td>\n",
       "      <td>47</td>\n",
       "      <td>1</td>\n",
       "      <td>Restaurants, Breakfast &amp; Brunch</td>\n",
       "    </tr>\n",
       "  </tbody>\n",
       "</table>\n",
       "</div>"
      ],
      "text/plain": [
       "                  user_id             business_id  stars_x  useful  funny  \\\n",
       "0  mh_-eMZ6K5RLWhZyISBhwA  XQfwVwDr-v0ZS3_CbbE5Xw        3       0      0   \n",
       "1  OyoGAe7OKpv6SyGZT5g77Q  7ATYjTIgM3jUlt4UM3IypQ        5       1      0   \n",
       "2  8g_iMtfSiwikVnbP2etR0A  YjUWPpI6HXG530lwP-fb2A        3       0      0   \n",
       "\n",
       "   cool                                               text  \\\n",
       "0     0  If you decide to eat here, just be aware it is...   \n",
       "1     1  I've taken a lot of spin classes over the year...   \n",
       "2     0  Family diner. Had the buffet. Eclectic assortm...   \n",
       "\n",
       "                           name                   address          city  \\\n",
       "0  Turning Point of North Wales       1460 Bethlehem Pike   North Wales   \n",
       "1    Body Cycle Spinning Studio  1923 Chestnut St, 2nd Fl  Philadelphia   \n",
       "2             Kettle Restaurant     748 W Starr Pass Blvd        Tucson   \n",
       "\n",
       "    latitude   longitude  review_count  is_open  \\\n",
       "0  40.210196  -75.223639           169        1   \n",
       "1  39.952103  -75.172753           144        0   \n",
       "2  32.207233 -110.980864            47        1   \n",
       "\n",
       "                                          categories  \n",
       "0  Restaurants, Breakfast & Brunch, Food, Juice B...  \n",
       "1  Active Life, Cycling Classes, Trainers, Gyms, ...  \n",
       "2                    Restaurants, Breakfast & Brunch  "
      ]
     },
     "execution_count": 14,
     "metadata": {},
     "output_type": "execute_result"
    }
   ],
   "source": [
    "df1.head(3)"
   ]
  },
  {
   "cell_type": "code",
   "execution_count": 11,
   "id": "86890269-2c11-4611-94b4-f9330e6afa13",
   "metadata": {},
   "outputs": [
    {
     "data": {
      "text/plain": [
       "Index(['user_id', 'business_id', 'stars_x', 'useful', 'funny', 'cool', 'text',\n",
       "       'date', 'name', 'address', 'city', 'state', 'postal_code', 'latitude',\n",
       "       'longitude', 'stars_y', 'review_count', 'is_open', 'categories'],\n",
       "      dtype='object')"
      ]
     },
     "execution_count": 11,
     "metadata": {},
     "output_type": "execute_result"
    }
   ],
   "source": [
    "df1.columns"
   ]
  },
  {
   "cell_type": "code",
   "execution_count": null,
   "id": "cc2b7d08-6ee9-43b1-829d-eda09a7e3c70",
   "metadata": {},
   "outputs": [],
   "source": []
  }
 ],
 "metadata": {
  "kernelspec": {
   "display_name": "wedora_model",
   "language": "python",
   "name": "wedora_model"
  },
  "language_info": {
   "codemirror_mode": {
    "name": "ipython",
    "version": 3
   },
   "file_extension": ".py",
   "mimetype": "text/x-python",
   "name": "python",
   "nbconvert_exporter": "python",
   "pygments_lexer": "ipython3",
   "version": "3.12.4"
  }
 },
 "nbformat": 4,
 "nbformat_minor": 5
}
