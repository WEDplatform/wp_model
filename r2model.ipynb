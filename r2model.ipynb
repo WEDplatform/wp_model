{
 "cells": [
  {
   "cell_type": "code",
   "execution_count": 2,
   "id": "4b444282-fa71-4db8-bd2e-912c235579f7",
   "metadata": {},
   "outputs": [],
   "source": [
    "import numpy as np\n",
    "import pandas as pd"
   ]
  },
  {
   "cell_type": "code",
   "execution_count": 3,
   "id": "000956f3-6fbd-4b22-9d52-96b1e7e4d0fa",
   "metadata": {},
   "outputs": [],
   "source": [
    "vendor_review_df=pd.read_json(\"../r2Data/yelp/yelp_academic_dataset_review.json\",lines=True,nrows=400000)"
   ]
  },
  {
   "cell_type": "code",
   "execution_count": 4,
   "id": "9b6c2980-e820-440d-a828-63b45c48e411",
   "metadata": {},
   "outputs": [],
   "source": [
    "vendor_business_info=pd.read_json(\"../r2Data/yelp/yelp_academic_dataset_business.json\",lines=True)"
   ]
  },
  {
   "cell_type": "code",
   "execution_count": 1,
   "id": "d0281ccf-47e2-4563-8467-9a104dee49b8",
   "metadata": {},
   "outputs": [
    {
     "ename": "NameError",
     "evalue": "name 'vendor_review_df' is not defined",
     "output_type": "error",
     "traceback": [
      "\u001b[1;31m---------------------------------------------------------------------------\u001b[0m",
      "\u001b[1;31mNameError\u001b[0m                                 Traceback (most recent call last)",
      "Cell \u001b[1;32mIn[1], line 1\u001b[0m\n\u001b[1;32m----> 1\u001b[0m \u001b[43mvendor_review_df\u001b[49m\u001b[38;5;241m.\u001b[39minfo()\n",
      "\u001b[1;31mNameError\u001b[0m: name 'vendor_review_df' is not defined"
     ]
    }
   ],
   "source": [
    "vendor_review_df.info()"
   ]
  },
  {
   "cell_type": "code",
   "execution_count": null,
   "id": "6db5a55b-3896-45b1-be6f-9d18e0b92c5d",
   "metadata": {},
   "outputs": [],
   "source": []
  }
 ],
 "metadata": {
  "kernelspec": {
   "display_name": "wedora_model",
   "language": "python",
   "name": "wedora_model"
  },
  "language_info": {
   "codemirror_mode": {
    "name": "ipython",
    "version": 3
   },
   "file_extension": ".py",
   "mimetype": "text/x-python",
   "name": "python",
   "nbconvert_exporter": "python",
   "pygments_lexer": "ipython3",
   "version": "3.12.4"
  }
 },
 "nbformat": 4,
 "nbformat_minor": 5
}
