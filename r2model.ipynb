{
 "cells": [
  {
   "cell_type": "code",
   "execution_count": 1,
   "id": "4b444282-fa71-4db8-bd2e-912c235579f7",
   "metadata": {},
   "outputs": [],
   "source": [
    "import numpy as np\n",
    "import pandas as pd"
   ]
  },
  {
   "cell_type": "markdown",
   "id": "13390ff5-08f7-4478-83a2-b6c2644e2bf9",
   "metadata": {},
   "source": [
    "# Vectorizing the revies of users"
   ]
  },
  {
   "cell_type": "code",
   "execution_count": 36,
   "id": "8e35e6cb-b880-499e-b162-7b50d6c3ce9f",
   "metadata": {},
   "outputs": [],
   "source": [
    "from sklearn.feature_extraction.text import TfidfVectorizer\n",
    "\n",
    "# Vectorize reviews\n",
    "tfidf = TfidfVectorizer(stop_words='english', max_features=5000)\n",
    "review_vectors = tfidf.fit_transform(df_matrix['text'])"
   ]
  },
  {
   "cell_type": "code",
   "execution_count": 56,
   "id": "c1da9819-c396-49fb-a3d8-3453be3383f7",
   "metadata": {},
   "outputs": [
    {
     "data": {
      "text/plain": [
       "600000"
      ]
     },
     "execution_count": 56,
     "metadata": {},
     "output_type": "execute_result"
    }
   ],
   "source": [
    "review_vectors.shape[0]"
   ]
  },
  {
   "cell_type": "markdown",
   "id": "795ce2a4-4e17-483f-a31b-87495607014d",
   "metadata": {},
   "source": [
    "## Averaging reviews"
   ]
  },
  {
   "cell_type": "code",
   "execution_count": 43,
   "id": "97116174-8845-4361-ab96-5a8a92c0db5e",
   "metadata": {},
   "outputs": [],
   "source": [
    "# Map user_id to numeric index\n",
    "user_id_map = {uid: idx for idx, uid in enumerate(df_matrix['user_id'].unique())}\n",
    "df_matrix['user_idx'] = df_matrix['user_id'].map(user_id_map)\n",
    "\n",
    "\n"
   ]
  },
  {
   "cell_type": "code",
   "execution_count": 59,
   "id": "a537c8ab-e174-42b7-9d53-722c0045d65d",
   "metadata": {},
   "outputs": [],
   "source": [
    "user_aggregation=[]\n",
    "for i in range(review_vectors.shape[0]):\n",
    "    user_aggregation.append(review_vectors[i].mean())"
   ]
  },
  {
   "cell_type": "code",
   "execution_count": 58,
   "id": "516afb4f-522d-4852-a145-b2bb5c78c995",
   "metadata": {},
   "outputs": [
    {
     "data": {
      "text/plain": [
       "np.float64(0.0010833878206556902)"
      ]
     },
     "execution_count": 58,
     "metadata": {},
     "output_type": "execute_result"
    }
   ],
   "source": [
    "review_vectors[2].mean()"
   ]
  },
  {
   "cell_type": "code",
   "execution_count": 62,
   "id": "094aa31c-8e25-49b0-83d8-045f18e64039",
   "metadata": {},
   "outputs": [],
   "source": [
    "user_review_avg=pd.DataFrame(user_aggregation,columns=['user_review_avg'])"
   ]
  },
  {
   "cell_type": "code",
   "execution_count": 65,
   "id": "9a784f2c-b5df-4435-962f-c43a79a3183e",
   "metadata": {},
   "outputs": [],
   "source": [
    "user_vendor_series=pd.concat([df_matrix,user_review_avg],axis=1)"
   ]
  },
  {
   "cell_type": "code",
   "execution_count": 66,
   "id": "14062682-52cb-42f5-9650-85a43b11e097",
   "metadata": {},
   "outputs": [],
   "source": [
    "user_vendor_series.to_csv(\"../r2Data/user_vendor_series_data.csv\")"
   ]
  },
  {
   "cell_type": "code",
   "execution_count": 13,
   "id": "c6da3266-d8c1-4c3b-8bde-5cef24e097c7",
   "metadata": {},
   "outputs": [],
   "source": [
    "user_vendor_data.dropna(inplace=True)"
   ]
  },
  {
   "cell_type": "markdown",
   "id": "af263781-e265-425b-bade-17d48019a809",
   "metadata": {},
   "source": [
    "# Convert vendor index to codes"
   ]
  },
  {
   "cell_type": "code",
   "execution_count": 17,
   "id": "9810cf44-c29f-4174-9e07-c36d03a28f6f",
   "metadata": {},
   "outputs": [],
   "source": [
    "# Map user_id to numeric index\n",
    "user_id_map = {uid: idx for idx, uid in enumerate(user_vendor_data['business_id'].unique())}\n",
    "user_vendor_data['vendor_idx'] = user_vendor_data['business_id'].map(user_id_map)"
   ]
  },
  {
   "cell_type": "code",
   "execution_count": 14,
   "id": "3fb24dc3-b694-4408-ace4-53f29a7165e7",
   "metadata": {},
   "outputs": [],
   "source": [
    "from sklearn.feature_extraction.text import TfidfVectorizer\n",
    "from scipy.sparse import csr_matrix\n",
    "\n",
    "# Vectorize user reviews\n",
    "t1 = TfidfVectorizer(max_features=5000, stop_words='english')\n",
    "review_vectors = t1.fit_transform(user_vendor_data['text'])\n",
    "\n",
    "\n"
   ]
  },
  {
   "cell_type": "code",
   "execution_count": 18,
   "id": "664c369d-f871-4f72-a201-29e3ec5f0702",
   "metadata": {},
   "outputs": [
    {
     "data": {
      "text/plain": [
       "347940"
      ]
     },
     "execution_count": 18,
     "metadata": {},
     "output_type": "execute_result"
    }
   ],
   "source": [
    "user_vendor_data['user_idx'].nunique()"
   ]
  },
  {
   "cell_type": "code",
   "execution_count": 19,
   "id": "05db599a-1e12-4872-bf28-6d1de9bb6e35",
   "metadata": {},
   "outputs": [],
   "source": [
    "t2 = TfidfVectorizer(max_features=5000, stop_words='english')\n",
    "vendor_profile = t2.fit_transform(user_vendor_data['categories'])"
   ]
  },
  {
   "cell_type": "code",
   "execution_count": 20,
   "id": "3cf61db8-7728-45ac-9c25-c6ae653ac2e3",
   "metadata": {},
   "outputs": [],
   "source": [
    "from sklearn.preprocessing import normalize\n",
    "\n",
    "# Normalize user profiles and vendor profiles\n",
    "user_profiles_normalized = normalize(review_vectors)\n",
    "vendor_profiles_normalized = normalize(vendor_profile)\n"
   ]
  },
  {
   "cell_type": "code",
   "execution_count": 21,
   "id": "c3258774-b427-4dd3-b056-427217a3c7c7",
   "metadata": {},
   "outputs": [
    {
     "data": {
      "text/plain": [
       "(551582, 5000)"
      ]
     },
     "execution_count": 21,
     "metadata": {},
     "output_type": "execute_result"
    }
   ],
   "source": [
    "review_vectors.shape"
   ]
  },
  {
   "cell_type": "code",
   "execution_count": null,
   "id": "f1c31713-e194-4476-a0d9-feb0dd2c02d6",
   "metadata": {},
   "outputs": [
    {
     "name": "stderr",
     "output_type": "stream",
     "text": [
      "C:\\Users\\ujwal\\wedora_env\\wedoraenv\\Lib\\site-packages\\scipy\\sparse\\_index.py:197: SparseEfficiencyWarning: Changing the sparsity structure of a csr_matrix is expensive. lil and dok are more efficient.\n",
      "  self._set_arrayXarray(i, j, x)\n"
     ]
    }
   ],
   "source": [
    "num_users = user_vendor_data['user_idx'].nunique()\n",
    "user_profiles = csr_matrix((num_users, review_vectors.shape[1]), dtype=np.float64)\n",
    "\n",
    "for user_idx in range(num_users):\n",
    "    user_reviews = review_vectors[np.array(user_vendor_data['user_idx'] == user_idx)]\n",
    "    if user_reviews.shape[0] > 0:\n",
    "        user_profiles[user_idx] = user_reviews.mean(axis=0)\n",
    "\n",
    "print(\"User profiles shape:\", user_profiles.shape)"
   ]
  },
  {
   "cell_type": "code",
   "execution_count": null,
   "id": "7deedd5b-a026-4995-90a0-f34c6fb2b106",
   "metadata": {},
   "outputs": [],
   "source": []
  }
 ],
 "metadata": {
  "kernelspec": {
   "display_name": "wedora_model",
   "language": "python",
   "name": "wedora_model"
  },
  "language_info": {
   "codemirror_mode": {
    "name": "ipython",
    "version": 3
   },
   "file_extension": ".py",
   "mimetype": "text/x-python",
   "name": "python",
   "nbconvert_exporter": "python",
   "pygments_lexer": "ipython3",
   "version": "3.12.4"
  }
 },
 "nbformat": 4,
 "nbformat_minor": 5
}
