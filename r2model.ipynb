{
 "cells": [
  {
   "cell_type": "code",
   "execution_count": 2,
   "id": "4b444282-fa71-4db8-bd2e-912c235579f7",
   "metadata": {},
   "outputs": [],
   "source": [
    "import numpy as np\n",
    "import pandas as pd"
   ]
  },
  {
   "cell_type": "code",
   "execution_count": 3,
   "id": "000956f3-6fbd-4b22-9d52-96b1e7e4d0fa",
   "metadata": {},
   "outputs": [],
   "source": [
    "vendor_review_df=pd.read_json(\"../r2Data/yelp/yelp_academic_dataset_review.json\",lines=True,nrows=400000)"
   ]
  },
  {
   "cell_type": "code",
   "execution_count": 4,
   "id": "9b6c2980-e820-440d-a828-63b45c48e411",
   "metadata": {},
   "outputs": [],
   "source": [
    "vendor_business_info=pd.read_json(\"../r2Data/yelp/yelp_academic_dataset_business.json\",lines=True)"
   ]
  },
  {
   "cell_type": "code",
   "execution_count": 7,
   "id": "f763f242-6f79-4fab-9309-82eb37cb6948",
   "metadata": {},
   "outputs": [
    {
     "data": {
      "text/html": [
       "<div>\n",
       "<style scoped>\n",
       "    .dataframe tbody tr th:only-of-type {\n",
       "        vertical-align: middle;\n",
       "    }\n",
       "\n",
       "    .dataframe tbody tr th {\n",
       "        vertical-align: top;\n",
       "    }\n",
       "\n",
       "    .dataframe thead th {\n",
       "        text-align: right;\n",
       "    }\n",
       "</style>\n",
       "<table border=\"1\" class=\"dataframe\">\n",
       "  <thead>\n",
       "    <tr style=\"text-align: right;\">\n",
       "      <th></th>\n",
       "      <th>business_id</th>\n",
       "      <th>name</th>\n",
       "      <th>address</th>\n",
       "      <th>city</th>\n",
       "      <th>state</th>\n",
       "      <th>postal_code</th>\n",
       "      <th>latitude</th>\n",
       "      <th>longitude</th>\n",
       "      <th>stars</th>\n",
       "      <th>review_count</th>\n",
       "      <th>is_open</th>\n",
       "      <th>attributes</th>\n",
       "      <th>categories</th>\n",
       "      <th>hours</th>\n",
       "    </tr>\n",
       "  </thead>\n",
       "  <tbody>\n",
       "    <tr>\n",
       "      <th>8204</th>\n",
       "      <td>4nOTQHWoDbAmktxBEZz9mw</td>\n",
       "      <td>The UPS Store</td>\n",
       "      <td>5662 Calle Real</td>\n",
       "      <td>Goleta</td>\n",
       "      <td>CA</td>\n",
       "      <td>93117</td>\n",
       "      <td>34.441613</td>\n",
       "      <td>-119.822943</td>\n",
       "      <td>3.0</td>\n",
       "      <td>27</td>\n",
       "      <td>1</td>\n",
       "      <td>{'BusinessAcceptsCreditCards': 'True'}</td>\n",
       "      <td>Notaries, Shipping Centers, Mailbox Centers, L...</td>\n",
       "      <td>{'Monday': '0:0-0:0', 'Tuesday': '7:30-18:0', ...</td>\n",
       "    </tr>\n",
       "  </tbody>\n",
       "</table>\n",
       "</div>"
      ],
      "text/plain": [
       "                 business_id           name          address    city state  \\\n",
       "8204  4nOTQHWoDbAmktxBEZz9mw  The UPS Store  5662 Calle Real  Goleta    CA   \n",
       "\n",
       "     postal_code   latitude   longitude  stars  review_count  is_open  \\\n",
       "8204       93117  34.441613 -119.822943    3.0            27        1   \n",
       "\n",
       "                                  attributes  \\\n",
       "8204  {'BusinessAcceptsCreditCards': 'True'}   \n",
       "\n",
       "                                             categories  \\\n",
       "8204  Notaries, Shipping Centers, Mailbox Centers, L...   \n",
       "\n",
       "                                                  hours  \n",
       "8204  {'Monday': '0:0-0:0', 'Tuesday': '7:30-18:0', ...  "
      ]
     },
     "execution_count": 7,
     "metadata": {},
     "output_type": "execute_result"
    }
   ],
   "source": [
    "vendor_business_info.sample(1)"
   ]
  },
  {
   "cell_type": "code",
   "execution_count": 8,
   "id": "be4f3686-4247-4e9f-94e5-50e17c4bf122",
   "metadata": {},
   "outputs": [
    {
     "data": {
      "text/html": [
       "<div>\n",
       "<style scoped>\n",
       "    .dataframe tbody tr th:only-of-type {\n",
       "        vertical-align: middle;\n",
       "    }\n",
       "\n",
       "    .dataframe tbody tr th {\n",
       "        vertical-align: top;\n",
       "    }\n",
       "\n",
       "    .dataframe thead th {\n",
       "        text-align: right;\n",
       "    }\n",
       "</style>\n",
       "<table border=\"1\" class=\"dataframe\">\n",
       "  <thead>\n",
       "    <tr style=\"text-align: right;\">\n",
       "      <th></th>\n",
       "      <th>review_id</th>\n",
       "      <th>user_id</th>\n",
       "      <th>business_id</th>\n",
       "      <th>stars</th>\n",
       "      <th>useful</th>\n",
       "      <th>funny</th>\n",
       "      <th>cool</th>\n",
       "      <th>text</th>\n",
       "      <th>date</th>\n",
       "    </tr>\n",
       "  </thead>\n",
       "  <tbody>\n",
       "    <tr>\n",
       "      <th>102292</th>\n",
       "      <td>0LIRtF3sHSwQdMxFfnF2Yw</td>\n",
       "      <td>TzSlEtNV-OhgAdpy-Qd4yA</td>\n",
       "      <td>2Su1brsNj98oEcobVdNk7Q</td>\n",
       "      <td>3</td>\n",
       "      <td>2</td>\n",
       "      <td>0</td>\n",
       "      <td>0</td>\n",
       "      <td>This is a funky hair salon. The main floor is ...</td>\n",
       "      <td>2008-10-02 22:15:38</td>\n",
       "    </tr>\n",
       "  </tbody>\n",
       "</table>\n",
       "</div>"
      ],
      "text/plain": [
       "                     review_id                 user_id  \\\n",
       "102292  0LIRtF3sHSwQdMxFfnF2Yw  TzSlEtNV-OhgAdpy-Qd4yA   \n",
       "\n",
       "                   business_id  stars  useful  funny  cool  \\\n",
       "102292  2Su1brsNj98oEcobVdNk7Q      3       2      0     0   \n",
       "\n",
       "                                                     text                date  \n",
       "102292  This is a funky hair salon. The main floor is ... 2008-10-02 22:15:38  "
      ]
     },
     "execution_count": 8,
     "metadata": {},
     "output_type": "execute_result"
    }
   ],
   "source": [
    "vendor_review_df.sample(1)"
   ]
  },
  {
   "cell_type": "code",
   "execution_count": null,
   "id": "306018e0-db0b-42f7-8d6e-e3bd10a77cf8",
   "metadata": {},
   "outputs": [],
   "source": []
  }
 ],
 "metadata": {
  "kernelspec": {
   "display_name": "wedora_model",
   "language": "python",
   "name": "wedora_model"
  },
  "language_info": {
   "codemirror_mode": {
    "name": "ipython",
    "version": 3
   },
   "file_extension": ".py",
   "mimetype": "text/x-python",
   "name": "python",
   "nbconvert_exporter": "python",
   "pygments_lexer": "ipython3",
   "version": "3.12.4"
  }
 },
 "nbformat": 4,
 "nbformat_minor": 5
}
