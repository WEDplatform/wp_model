{
 "cells": [
  {
   "cell_type": "code",
   "execution_count": 1,
   "id": "4b444282-fa71-4db8-bd2e-912c235579f7",
   "metadata": {},
   "outputs": [],
   "source": [
    "import numpy as np\n",
    "import pandas as pd"
   ]
  },
  {
   "cell_type": "code",
   "execution_count": 2,
   "id": "97ae6247-c26c-430b-9f78-888ac849394b",
   "metadata": {},
   "outputs": [],
   "source": [
    "user_vendor_data=pd.read_csv(\"../r2Data/user_vendor_series_data.csv\")"
   ]
  },
  {
   "cell_type": "code",
   "execution_count": 16,
   "id": "000956f3-6fbd-4b22-9d52-96b1e7e4d0fa",
   "metadata": {},
   "outputs": [],
   "source": [
    "vendor_review_df=pd.read_json(\"../r2Data/yelp/yelp_academic_dataset_review.json\",lines=True,nrows=600000)"
   ]
  },
  {
   "cell_type": "code",
   "execution_count": 3,
   "id": "9b6c2980-e820-440d-a828-63b45c48e411",
   "metadata": {},
   "outputs": [],
   "source": [
    "vendor_business_info=pd.read_json(\"../r2Data/yelp/yelp_academic_dataset_business.json\",lines=True)"
   ]
  },
  {
   "cell_type": "code",
   "execution_count": 4,
   "id": "f763f242-6f79-4fab-9309-82eb37cb6948",
   "metadata": {},
   "outputs": [
    {
     "data": {
      "text/html": [
       "<div>\n",
       "<style scoped>\n",
       "    .dataframe tbody tr th:only-of-type {\n",
       "        vertical-align: middle;\n",
       "    }\n",
       "\n",
       "    .dataframe tbody tr th {\n",
       "        vertical-align: top;\n",
       "    }\n",
       "\n",
       "    .dataframe thead th {\n",
       "        text-align: right;\n",
       "    }\n",
       "</style>\n",
       "<table border=\"1\" class=\"dataframe\">\n",
       "  <thead>\n",
       "    <tr style=\"text-align: right;\">\n",
       "      <th></th>\n",
       "      <th>business_id</th>\n",
       "      <th>name</th>\n",
       "      <th>address</th>\n",
       "      <th>city</th>\n",
       "      <th>state</th>\n",
       "      <th>postal_code</th>\n",
       "      <th>latitude</th>\n",
       "      <th>longitude</th>\n",
       "      <th>stars</th>\n",
       "      <th>review_count</th>\n",
       "      <th>is_open</th>\n",
       "      <th>attributes</th>\n",
       "      <th>categories</th>\n",
       "      <th>hours</th>\n",
       "    </tr>\n",
       "  </thead>\n",
       "  <tbody>\n",
       "    <tr>\n",
       "      <th>34215</th>\n",
       "      <td>Ut4tiRgbuL5sOa3hZemWGQ</td>\n",
       "      <td>Gold Dust West Casino Reno</td>\n",
       "      <td>444 Vine St</td>\n",
       "      <td>Reno</td>\n",
       "      <td>NV</td>\n",
       "      <td>89503</td>\n",
       "      <td>39.528924</td>\n",
       "      <td>-119.824745</td>\n",
       "      <td>3.0</td>\n",
       "      <td>125</td>\n",
       "      <td>1</td>\n",
       "      <td>{'GoodForKids': 'False'}</td>\n",
       "      <td>Casinos, Arts &amp; Entertainment</td>\n",
       "      <td>{'Monday': '0:0-0:0', 'Tuesday': '0:0-0:0', 'W...</td>\n",
       "    </tr>\n",
       "  </tbody>\n",
       "</table>\n",
       "</div>"
      ],
      "text/plain": [
       "                  business_id                        name      address  city  \\\n",
       "34215  Ut4tiRgbuL5sOa3hZemWGQ  Gold Dust West Casino Reno  444 Vine St  Reno   \n",
       "\n",
       "      state postal_code   latitude   longitude  stars  review_count  is_open  \\\n",
       "34215    NV       89503  39.528924 -119.824745    3.0           125        1   \n",
       "\n",
       "                     attributes                     categories  \\\n",
       "34215  {'GoodForKids': 'False'}  Casinos, Arts & Entertainment   \n",
       "\n",
       "                                                   hours  \n",
       "34215  {'Monday': '0:0-0:0', 'Tuesday': '0:0-0:0', 'W...  "
      ]
     },
     "execution_count": 4,
     "metadata": {},
     "output_type": "execute_result"
    }
   ],
   "source": [
    "vendor_business_info.sample(1)"
   ]
  },
  {
   "cell_type": "code",
   "execution_count": 19,
   "id": "be4f3686-4247-4e9f-94e5-50e17c4bf122",
   "metadata": {},
   "outputs": [
    {
     "data": {
      "text/plain": [
       "(600000, 9)"
      ]
     },
     "execution_count": 19,
     "metadata": {},
     "output_type": "execute_result"
    }
   ],
   "source": [
    "vendor_review_df.shape"
   ]
  },
  {
   "cell_type": "code",
   "execution_count": null,
   "id": "306018e0-db0b-42f7-8d6e-e3bd10a77cf8",
   "metadata": {},
   "outputs": [],
   "source": []
  },
  {
   "cell_type": "code",
   "execution_count": 23,
   "id": "7aa4719a-8ea3-4fe3-bbda-e8959453ef01",
   "metadata": {},
   "outputs": [],
   "source": [
    "df_matrix=vendor_review_df.merge(vendor_business_info,on=\"business_id\")"
   ]
  },
  {
   "cell_type": "code",
   "execution_count": 26,
   "id": "53027f64-ce22-4e35-b135-06f06b50ec6b",
   "metadata": {},
   "outputs": [
    {
     "data": {
      "text/plain": [
       "np.int64(585002)"
      ]
     },
     "execution_count": 26,
     "metadata": {},
     "output_type": "execute_result"
    }
   ],
   "source": [
    "df_matrix['business_id'].duplicated().sum()"
   ]
  },
  {
   "cell_type": "code",
   "execution_count": 27,
   "id": "5c27d748-8728-4feb-8020-badc193a9fea",
   "metadata": {},
   "outputs": [
    {
     "data": {
      "text/html": [
       "<div>\n",
       "<style scoped>\n",
       "    .dataframe tbody tr th:only-of-type {\n",
       "        vertical-align: middle;\n",
       "    }\n",
       "\n",
       "    .dataframe tbody tr th {\n",
       "        vertical-align: top;\n",
       "    }\n",
       "\n",
       "    .dataframe thead th {\n",
       "        text-align: right;\n",
       "    }\n",
       "</style>\n",
       "<table border=\"1\" class=\"dataframe\">\n",
       "  <thead>\n",
       "    <tr style=\"text-align: right;\">\n",
       "      <th></th>\n",
       "      <th>review_id</th>\n",
       "      <th>user_id</th>\n",
       "      <th>business_id</th>\n",
       "      <th>stars_x</th>\n",
       "      <th>useful</th>\n",
       "      <th>funny</th>\n",
       "      <th>cool</th>\n",
       "      <th>text</th>\n",
       "      <th>date</th>\n",
       "      <th>name</th>\n",
       "      <th>...</th>\n",
       "      <th>state</th>\n",
       "      <th>postal_code</th>\n",
       "      <th>latitude</th>\n",
       "      <th>longitude</th>\n",
       "      <th>stars_y</th>\n",
       "      <th>review_count</th>\n",
       "      <th>is_open</th>\n",
       "      <th>attributes</th>\n",
       "      <th>categories</th>\n",
       "      <th>hours</th>\n",
       "    </tr>\n",
       "  </thead>\n",
       "  <tbody>\n",
       "    <tr>\n",
       "      <th>487439</th>\n",
       "      <td>H0sjTpICb1T2AtpH3-jQxA</td>\n",
       "      <td>frkbB4jgmKzJaM5OqPiU6Q</td>\n",
       "      <td>L93Iw2rDhGT5dv3B86BTXg</td>\n",
       "      <td>5</td>\n",
       "      <td>0</td>\n",
       "      <td>0</td>\n",
       "      <td>1</td>\n",
       "      <td>If you are looking to get waxed Rita is the la...</td>\n",
       "      <td>2019-09-30 21:52:20</td>\n",
       "      <td>Tampa Sugaring</td>\n",
       "      <td>...</td>\n",
       "      <td>FL</td>\n",
       "      <td>33511</td>\n",
       "      <td>27.919124</td>\n",
       "      <td>-82.323760</td>\n",
       "      <td>4.5</td>\n",
       "      <td>7</td>\n",
       "      <td>1</td>\n",
       "      <td>{'BikeParking': 'True', 'WiFi': 'u'free'', 'Bu...</td>\n",
       "      <td>Day Spas, Massage, Sugaring, Hair Removal, Wax...</td>\n",
       "      <td>{'Monday': '0:0-0:0', 'Tuesday': '11:0-20:0', ...</td>\n",
       "    </tr>\n",
       "    <tr>\n",
       "      <th>283101</th>\n",
       "      <td>4vWpAuj1gjnY3LaUhn_ekA</td>\n",
       "      <td>nj4wC4MJIhbHyFkZ_rd8fQ</td>\n",
       "      <td>avNUBfd-ZVCA0OkgEvaVqw</td>\n",
       "      <td>5</td>\n",
       "      <td>0</td>\n",
       "      <td>0</td>\n",
       "      <td>0</td>\n",
       "      <td>I used to go to Studio Branca for many years a...</td>\n",
       "      <td>2013-10-24 02:17:53</td>\n",
       "      <td>Studio Branca</td>\n",
       "      <td>...</td>\n",
       "      <td>MO</td>\n",
       "      <td>63141</td>\n",
       "      <td>38.677912</td>\n",
       "      <td>-90.464926</td>\n",
       "      <td>3.5</td>\n",
       "      <td>51</td>\n",
       "      <td>1</td>\n",
       "      <td>{'BusinessParking': '{'garage': False, 'street...</td>\n",
       "      <td>Beauty &amp; Spas, Nail Salons, Health &amp; Medical, ...</td>\n",
       "      <td>{'Monday': '8:0-20:0', 'Tuesday': '7:0-21:0', ...</td>\n",
       "    </tr>\n",
       "    <tr>\n",
       "      <th>392413</th>\n",
       "      <td>zIKfeAR0QjFlkftqXqCHmw</td>\n",
       "      <td>gxCLyxKrasqRZsv8qoRRfw</td>\n",
       "      <td>1skzWN0fxGgZNRE53Y_3gw</td>\n",
       "      <td>2</td>\n",
       "      <td>0</td>\n",
       "      <td>1</td>\n",
       "      <td>0</td>\n",
       "      <td>Perennial brews are the equivalent of Fizzie I...</td>\n",
       "      <td>2019-04-03 22:09:34</td>\n",
       "      <td>Perennial Artisan Ales</td>\n",
       "      <td>...</td>\n",
       "      <td>MO</td>\n",
       "      <td>63111</td>\n",
       "      <td>38.545541</td>\n",
       "      <td>-90.265343</td>\n",
       "      <td>4.0</td>\n",
       "      <td>125</td>\n",
       "      <td>1</td>\n",
       "      <td>{'BikeParking': 'True', 'BusinessParking': '{'...</td>\n",
       "      <td>Breweries, Food</td>\n",
       "      <td>{'Wednesday': '15:0-20:0', 'Thursday': '15:0-2...</td>\n",
       "    </tr>\n",
       "    <tr>\n",
       "      <th>499250</th>\n",
       "      <td>57-eri8PaRkq0gxbHI2afg</td>\n",
       "      <td>G6-THBuq3x_q3Kb106CJpw</td>\n",
       "      <td>AzseSGgDC6bVtMPEYo1CNQ</td>\n",
       "      <td>5</td>\n",
       "      <td>1</td>\n",
       "      <td>0</td>\n",
       "      <td>0</td>\n",
       "      <td>Creole Creamery has a huge variety of really c...</td>\n",
       "      <td>2016-06-21 22:07:52</td>\n",
       "      <td>Creole Creamery</td>\n",
       "      <td>...</td>\n",
       "      <td>LA</td>\n",
       "      <td>70115</td>\n",
       "      <td>29.924394</td>\n",
       "      <td>-90.108503</td>\n",
       "      <td>4.5</td>\n",
       "      <td>921</td>\n",
       "      <td>1</td>\n",
       "      <td>{'BikeParking': 'True', 'GoodForKids': 'True',...</td>\n",
       "      <td>Food, Ice Cream &amp; Frozen Yogurt</td>\n",
       "      <td>{'Monday': '12:0-22:0', 'Tuesday': '12:0-22:0'...</td>\n",
       "    </tr>\n",
       "    <tr>\n",
       "      <th>558822</th>\n",
       "      <td>YyI8Og98lHFAeNCoNjylFg</td>\n",
       "      <td>Lcx7JDM5zHg1o27HbTggjg</td>\n",
       "      <td>z680Aylt8wN2KAeFM1hy-A</td>\n",
       "      <td>5</td>\n",
       "      <td>2</td>\n",
       "      <td>1</td>\n",
       "      <td>1</td>\n",
       "      <td>What can I say about Chatham Tap I think they ...</td>\n",
       "      <td>2021-04-05 14:36:19</td>\n",
       "      <td>Chatham Tap Mass. Ave.</td>\n",
       "      <td>...</td>\n",
       "      <td>IN</td>\n",
       "      <td>46204</td>\n",
       "      <td>39.776608</td>\n",
       "      <td>-86.146371</td>\n",
       "      <td>4.0</td>\n",
       "      <td>427</td>\n",
       "      <td>1</td>\n",
       "      <td>{'Ambience': '{'romantic': False, 'intimate': ...</td>\n",
       "      <td>Bars, British, Pubs, Nightlife, Pizza, Restaur...</td>\n",
       "      <td>{'Monday': '11:0-23:0', 'Tuesday': '11:0-23:0'...</td>\n",
       "    </tr>\n",
       "    <tr>\n",
       "      <th>78354</th>\n",
       "      <td>025ldYF8JaqYQ0bvlOw0HA</td>\n",
       "      <td>Jo-oqUCiaj_j3CSDolfdKw</td>\n",
       "      <td>aAdGIK9ewmiWtGzIcrQgNA</td>\n",
       "      <td>5</td>\n",
       "      <td>0</td>\n",
       "      <td>0</td>\n",
       "      <td>0</td>\n",
       "      <td>Stop on my way to Orlando, the bartender and I...</td>\n",
       "      <td>2018-07-17 17:16:37</td>\n",
       "      <td>Gran Agave</td>\n",
       "      <td>...</td>\n",
       "      <td>FL</td>\n",
       "      <td>33578</td>\n",
       "      <td>27.894444</td>\n",
       "      <td>-82.318030</td>\n",
       "      <td>3.5</td>\n",
       "      <td>214</td>\n",
       "      <td>1</td>\n",
       "      <td>{'RestaurantsReservations': 'False', 'Ambience...</td>\n",
       "      <td>Restaurants, Mexican</td>\n",
       "      <td>{'Monday': '11:0-22:0', 'Tuesday': '11:0-22:0'...</td>\n",
       "    </tr>\n",
       "    <tr>\n",
       "      <th>527444</th>\n",
       "      <td>8KHaMTjDWlZTA3LPDFEy-w</td>\n",
       "      <td>RPyg9Diz9KWUxn9iUM7Bfg</td>\n",
       "      <td>HPVpxcwDVjgZatc4M8bEnw</td>\n",
       "      <td>4</td>\n",
       "      <td>1</td>\n",
       "      <td>0</td>\n",
       "      <td>0</td>\n",
       "      <td>I travel to this area for business and always ...</td>\n",
       "      <td>2018-04-18 03:48:14</td>\n",
       "      <td>Frazer Diner</td>\n",
       "      <td>...</td>\n",
       "      <td>PA</td>\n",
       "      <td>19355</td>\n",
       "      <td>40.041407</td>\n",
       "      <td>-75.537486</td>\n",
       "      <td>3.5</td>\n",
       "      <td>51</td>\n",
       "      <td>1</td>\n",
       "      <td>{'WiFi': 'u'no'', 'RestaurantsTakeOut': 'True'...</td>\n",
       "      <td>Restaurants, Breakfast &amp; Brunch, Diners</td>\n",
       "      <td>None</td>\n",
       "    </tr>\n",
       "    <tr>\n",
       "      <th>321267</th>\n",
       "      <td>O6PVOarnonvX7_i7I2vUew</td>\n",
       "      <td>b_YyI6Q4DTXIlv41OITR-Q</td>\n",
       "      <td>8OPE0UaZHf7vdYkgbIj8vg</td>\n",
       "      <td>4</td>\n",
       "      <td>4</td>\n",
       "      <td>1</td>\n",
       "      <td>1</td>\n",
       "      <td>\"Packer Backer\" here... Have to say - love thi...</td>\n",
       "      <td>2015-01-11 19:58:02</td>\n",
       "      <td>Fox and Hound English Pub and Grille</td>\n",
       "      <td>...</td>\n",
       "      <td>IN</td>\n",
       "      <td>46250</td>\n",
       "      <td>39.904247</td>\n",
       "      <td>-86.087971</td>\n",
       "      <td>3.0</td>\n",
       "      <td>65</td>\n",
       "      <td>0</td>\n",
       "      <td>{'RestaurantsTakeOut': 'True', 'RestaurantsDel...</td>\n",
       "      <td>American (New), Nightlife, Bars, Restaurants, ...</td>\n",
       "      <td>{'Monday': '11:0-2:0', 'Tuesday': '11:0-2:0', ...</td>\n",
       "    </tr>\n",
       "    <tr>\n",
       "      <th>438024</th>\n",
       "      <td>7jwXqYpwE_XuJFbgoqR4ig</td>\n",
       "      <td>XrWAdRK4CUUK85Ak3x-HDw</td>\n",
       "      <td>Ms5xG8i4p80KSMcF3tt4ug</td>\n",
       "      <td>3</td>\n",
       "      <td>6</td>\n",
       "      <td>2</td>\n",
       "      <td>2</td>\n",
       "      <td>Meh.\\nOnly went here for a bridal shower. The ...</td>\n",
       "      <td>2017-07-31 16:20:00</td>\n",
       "      <td>Sal DeForte's Ristorante</td>\n",
       "      <td>...</td>\n",
       "      <td>NJ</td>\n",
       "      <td>08628</td>\n",
       "      <td>40.266888</td>\n",
       "      <td>-74.805657</td>\n",
       "      <td>4.0</td>\n",
       "      <td>52</td>\n",
       "      <td>1</td>\n",
       "      <td>{'RestaurantsAttire': ''casual'', 'Restaurants...</td>\n",
       "      <td>Italian, Restaurants</td>\n",
       "      <td>{'Monday': '16:0-20:0', 'Tuesday': '16:0-20:0'...</td>\n",
       "    </tr>\n",
       "    <tr>\n",
       "      <th>525781</th>\n",
       "      <td>NkNsmrEA8iss6vfyhu38Ug</td>\n",
       "      <td>fGIap6ckTYui9CZq9RxaCA</td>\n",
       "      <td>txasGoZ1qB5toVaFiTbpmQ</td>\n",
       "      <td>5</td>\n",
       "      <td>0</td>\n",
       "      <td>0</td>\n",
       "      <td>0</td>\n",
       "      <td>Great brunch spot - so glad we got to try it! ...</td>\n",
       "      <td>2021-07-13 00:09:01</td>\n",
       "      <td>The Brunchery</td>\n",
       "      <td>...</td>\n",
       "      <td>FL</td>\n",
       "      <td>33647</td>\n",
       "      <td>28.127905</td>\n",
       "      <td>-82.369112</td>\n",
       "      <td>4.0</td>\n",
       "      <td>88</td>\n",
       "      <td>1</td>\n",
       "      <td>{'DogsAllowed': 'False', 'BusinessAcceptsCredi...</td>\n",
       "      <td>Restaurants, American (Traditional), Breakfast...</td>\n",
       "      <td>{'Monday': '8:0-14:0', 'Tuesday': '8:0-14:0', ...</td>\n",
       "    </tr>\n",
       "  </tbody>\n",
       "</table>\n",
       "<p>10 rows × 22 columns</p>\n",
       "</div>"
      ],
      "text/plain": [
       "                     review_id                 user_id  \\\n",
       "487439  H0sjTpICb1T2AtpH3-jQxA  frkbB4jgmKzJaM5OqPiU6Q   \n",
       "283101  4vWpAuj1gjnY3LaUhn_ekA  nj4wC4MJIhbHyFkZ_rd8fQ   \n",
       "392413  zIKfeAR0QjFlkftqXqCHmw  gxCLyxKrasqRZsv8qoRRfw   \n",
       "499250  57-eri8PaRkq0gxbHI2afg  G6-THBuq3x_q3Kb106CJpw   \n",
       "558822  YyI8Og98lHFAeNCoNjylFg  Lcx7JDM5zHg1o27HbTggjg   \n",
       "78354   025ldYF8JaqYQ0bvlOw0HA  Jo-oqUCiaj_j3CSDolfdKw   \n",
       "527444  8KHaMTjDWlZTA3LPDFEy-w  RPyg9Diz9KWUxn9iUM7Bfg   \n",
       "321267  O6PVOarnonvX7_i7I2vUew  b_YyI6Q4DTXIlv41OITR-Q   \n",
       "438024  7jwXqYpwE_XuJFbgoqR4ig  XrWAdRK4CUUK85Ak3x-HDw   \n",
       "525781  NkNsmrEA8iss6vfyhu38Ug  fGIap6ckTYui9CZq9RxaCA   \n",
       "\n",
       "                   business_id  stars_x  useful  funny  cool  \\\n",
       "487439  L93Iw2rDhGT5dv3B86BTXg        5       0      0     1   \n",
       "283101  avNUBfd-ZVCA0OkgEvaVqw        5       0      0     0   \n",
       "392413  1skzWN0fxGgZNRE53Y_3gw        2       0      1     0   \n",
       "499250  AzseSGgDC6bVtMPEYo1CNQ        5       1      0     0   \n",
       "558822  z680Aylt8wN2KAeFM1hy-A        5       2      1     1   \n",
       "78354   aAdGIK9ewmiWtGzIcrQgNA        5       0      0     0   \n",
       "527444  HPVpxcwDVjgZatc4M8bEnw        4       1      0     0   \n",
       "321267  8OPE0UaZHf7vdYkgbIj8vg        4       4      1     1   \n",
       "438024  Ms5xG8i4p80KSMcF3tt4ug        3       6      2     2   \n",
       "525781  txasGoZ1qB5toVaFiTbpmQ        5       0      0     0   \n",
       "\n",
       "                                                     text                date  \\\n",
       "487439  If you are looking to get waxed Rita is the la... 2019-09-30 21:52:20   \n",
       "283101  I used to go to Studio Branca for many years a... 2013-10-24 02:17:53   \n",
       "392413  Perennial brews are the equivalent of Fizzie I... 2019-04-03 22:09:34   \n",
       "499250  Creole Creamery has a huge variety of really c... 2016-06-21 22:07:52   \n",
       "558822  What can I say about Chatham Tap I think they ... 2021-04-05 14:36:19   \n",
       "78354   Stop on my way to Orlando, the bartender and I... 2018-07-17 17:16:37   \n",
       "527444  I travel to this area for business and always ... 2018-04-18 03:48:14   \n",
       "321267  \"Packer Backer\" here... Have to say - love thi... 2015-01-11 19:58:02   \n",
       "438024  Meh.\\nOnly went here for a bridal shower. The ... 2017-07-31 16:20:00   \n",
       "525781  Great brunch spot - so glad we got to try it! ... 2021-07-13 00:09:01   \n",
       "\n",
       "                                        name  ... state postal_code  \\\n",
       "487439                        Tampa Sugaring  ...    FL       33511   \n",
       "283101                         Studio Branca  ...    MO       63141   \n",
       "392413                Perennial Artisan Ales  ...    MO       63111   \n",
       "499250                       Creole Creamery  ...    LA       70115   \n",
       "558822                Chatham Tap Mass. Ave.  ...    IN       46204   \n",
       "78354                             Gran Agave  ...    FL       33578   \n",
       "527444                          Frazer Diner  ...    PA       19355   \n",
       "321267  Fox and Hound English Pub and Grille  ...    IN       46250   \n",
       "438024              Sal DeForte's Ristorante  ...    NJ       08628   \n",
       "525781                         The Brunchery  ...    FL       33647   \n",
       "\n",
       "         latitude  longitude  stars_y  review_count  is_open  \\\n",
       "487439  27.919124 -82.323760      4.5             7        1   \n",
       "283101  38.677912 -90.464926      3.5            51        1   \n",
       "392413  38.545541 -90.265343      4.0           125        1   \n",
       "499250  29.924394 -90.108503      4.5           921        1   \n",
       "558822  39.776608 -86.146371      4.0           427        1   \n",
       "78354   27.894444 -82.318030      3.5           214        1   \n",
       "527444  40.041407 -75.537486      3.5            51        1   \n",
       "321267  39.904247 -86.087971      3.0            65        0   \n",
       "438024  40.266888 -74.805657      4.0            52        1   \n",
       "525781  28.127905 -82.369112      4.0            88        1   \n",
       "\n",
       "                                               attributes  \\\n",
       "487439  {'BikeParking': 'True', 'WiFi': 'u'free'', 'Bu...   \n",
       "283101  {'BusinessParking': '{'garage': False, 'street...   \n",
       "392413  {'BikeParking': 'True', 'BusinessParking': '{'...   \n",
       "499250  {'BikeParking': 'True', 'GoodForKids': 'True',...   \n",
       "558822  {'Ambience': '{'romantic': False, 'intimate': ...   \n",
       "78354   {'RestaurantsReservations': 'False', 'Ambience...   \n",
       "527444  {'WiFi': 'u'no'', 'RestaurantsTakeOut': 'True'...   \n",
       "321267  {'RestaurantsTakeOut': 'True', 'RestaurantsDel...   \n",
       "438024  {'RestaurantsAttire': ''casual'', 'Restaurants...   \n",
       "525781  {'DogsAllowed': 'False', 'BusinessAcceptsCredi...   \n",
       "\n",
       "                                               categories  \\\n",
       "487439  Day Spas, Massage, Sugaring, Hair Removal, Wax...   \n",
       "283101  Beauty & Spas, Nail Salons, Health & Medical, ...   \n",
       "392413                                    Breweries, Food   \n",
       "499250                    Food, Ice Cream & Frozen Yogurt   \n",
       "558822  Bars, British, Pubs, Nightlife, Pizza, Restaur...   \n",
       "78354                                Restaurants, Mexican   \n",
       "527444            Restaurants, Breakfast & Brunch, Diners   \n",
       "321267  American (New), Nightlife, Bars, Restaurants, ...   \n",
       "438024                               Italian, Restaurants   \n",
       "525781  Restaurants, American (Traditional), Breakfast...   \n",
       "\n",
       "                                                    hours  \n",
       "487439  {'Monday': '0:0-0:0', 'Tuesday': '11:0-20:0', ...  \n",
       "283101  {'Monday': '8:0-20:0', 'Tuesday': '7:0-21:0', ...  \n",
       "392413  {'Wednesday': '15:0-20:0', 'Thursday': '15:0-2...  \n",
       "499250  {'Monday': '12:0-22:0', 'Tuesday': '12:0-22:0'...  \n",
       "558822  {'Monday': '11:0-23:0', 'Tuesday': '11:0-23:0'...  \n",
       "78354   {'Monday': '11:0-22:0', 'Tuesday': '11:0-22:0'...  \n",
       "527444                                               None  \n",
       "321267  {'Monday': '11:0-2:0', 'Tuesday': '11:0-2:0', ...  \n",
       "438024  {'Monday': '16:0-20:0', 'Tuesday': '16:0-20:0'...  \n",
       "525781  {'Monday': '8:0-14:0', 'Tuesday': '8:0-14:0', ...  \n",
       "\n",
       "[10 rows x 22 columns]"
      ]
     },
     "execution_count": 27,
     "metadata": {},
     "output_type": "execute_result"
    }
   ],
   "source": [
    "df_matrix.sample(10)"
   ]
  },
  {
   "cell_type": "code",
   "execution_count": 28,
   "id": "d8d88745-9703-4c40-9d84-8499fe32d6c6",
   "metadata": {},
   "outputs": [
    {
     "data": {
      "text/plain": [
       "Index(['review_id', 'user_id', 'business_id', 'stars_x', 'useful', 'funny',\n",
       "       'cool', 'text', 'date', 'name', 'address', 'city', 'state',\n",
       "       'postal_code', 'latitude', 'longitude', 'stars_y', 'review_count',\n",
       "       'is_open', 'attributes', 'categories', 'hours'],\n",
       "      dtype='object')"
      ]
     },
     "execution_count": 28,
     "metadata": {},
     "output_type": "execute_result"
    }
   ],
   "source": [
    "df_matrix.columns"
   ]
  },
  {
   "cell_type": "code",
   "execution_count": 33,
   "id": "a182587e-667e-4791-9295-7cb7a73efda6",
   "metadata": {},
   "outputs": [
    {
     "data": {
      "text/plain": [
       "business_id\n",
       "--ZVrH2X2QXBFdCilbirsw    31\n",
       "--_9CAxgfXZmoFdNIRrhHA    11\n",
       "--hF_3v1JmU9nlu4zfXJ8Q     3\n",
       "-02xFuruu85XmDn2xiynJw    89\n",
       "-0E7laYjwZxEAQPhFJXxow    16\n",
       "                          ..\n",
       "zzKVqizyl3QCb3GZmg_cNg     4\n",
       "zzUxvYE-8Fj_dWqsPcagNg    10\n",
       "zzjFdJwXuxBOGe9JeY_EMw    33\n",
       "zztOG2cKm87I6Iw_tleZsQ     3\n",
       "zzyx5x0Z7xXWWvWnZFuxlQ     8\n",
       "Length: 14998, dtype: int64"
      ]
     },
     "execution_count": 33,
     "metadata": {},
     "output_type": "execute_result"
    }
   ],
   "source": [
    "df_matrix.pivot_table(index = ['business_id'], aggfunc ='size') "
   ]
  },
  {
   "cell_type": "markdown",
   "id": "13390ff5-08f7-4478-83a2-b6c2644e2bf9",
   "metadata": {},
   "source": [
    "# Vectorizing the revies of users"
   ]
  },
  {
   "cell_type": "code",
   "execution_count": 36,
   "id": "8e35e6cb-b880-499e-b162-7b50d6c3ce9f",
   "metadata": {},
   "outputs": [],
   "source": [
    "from sklearn.feature_extraction.text import TfidfVectorizer\n",
    "\n",
    "# Vectorize reviews\n",
    "tfidf = TfidfVectorizer(stop_words='english', max_features=5000)\n",
    "review_vectors = tfidf.fit_transform(df_matrix['text'])"
   ]
  },
  {
   "cell_type": "code",
   "execution_count": 56,
   "id": "c1da9819-c396-49fb-a3d8-3453be3383f7",
   "metadata": {},
   "outputs": [
    {
     "data": {
      "text/plain": [
       "600000"
      ]
     },
     "execution_count": 56,
     "metadata": {},
     "output_type": "execute_result"
    }
   ],
   "source": [
    "review_vectors.shape[0]"
   ]
  },
  {
   "cell_type": "markdown",
   "id": "795ce2a4-4e17-483f-a31b-87495607014d",
   "metadata": {},
   "source": [
    "## Averaging reviews"
   ]
  },
  {
   "cell_type": "code",
   "execution_count": 43,
   "id": "97116174-8845-4361-ab96-5a8a92c0db5e",
   "metadata": {},
   "outputs": [],
   "source": [
    "# Map user_id to numeric index\n",
    "user_id_map = {uid: idx for idx, uid in enumerate(df_matrix['user_id'].unique())}\n",
    "df_matrix['user_idx'] = df_matrix['user_id'].map(user_id_map)\n",
    "\n",
    "\n"
   ]
  },
  {
   "cell_type": "code",
   "execution_count": 59,
   "id": "a537c8ab-e174-42b7-9d53-722c0045d65d",
   "metadata": {},
   "outputs": [],
   "source": [
    "user_aggregation=[]\n",
    "for i in range(review_vectors.shape[0]):\n",
    "    user_aggregation.append(review_vectors[i].mean())"
   ]
  },
  {
   "cell_type": "code",
   "execution_count": 58,
   "id": "516afb4f-522d-4852-a145-b2bb5c78c995",
   "metadata": {},
   "outputs": [
    {
     "data": {
      "text/plain": [
       "np.float64(0.0010833878206556902)"
      ]
     },
     "execution_count": 58,
     "metadata": {},
     "output_type": "execute_result"
    }
   ],
   "source": [
    "review_vectors[2].mean()"
   ]
  },
  {
   "cell_type": "code",
   "execution_count": 62,
   "id": "094aa31c-8e25-49b0-83d8-045f18e64039",
   "metadata": {},
   "outputs": [],
   "source": [
    "user_review_avg=pd.DataFrame(user_aggregation,columns=['user_review_avg'])"
   ]
  },
  {
   "cell_type": "code",
   "execution_count": 65,
   "id": "9a784f2c-b5df-4435-962f-c43a79a3183e",
   "metadata": {},
   "outputs": [],
   "source": [
    "user_vendor_series=pd.concat([df_matrix,user_review_avg],axis=1)"
   ]
  },
  {
   "cell_type": "code",
   "execution_count": 66,
   "id": "14062682-52cb-42f5-9650-85a43b11e097",
   "metadata": {},
   "outputs": [],
   "source": [
    "user_vendor_series.to_csv(\"../r2Data/user_vendor_series_data.csv\")"
   ]
  },
  {
   "cell_type": "code",
   "execution_count": 13,
   "id": "c6da3266-d8c1-4c3b-8bde-5cef24e097c7",
   "metadata": {},
   "outputs": [],
   "source": [
    "user_vendor_data.dropna(inplace=True)"
   ]
  },
  {
   "cell_type": "markdown",
   "id": "af263781-e265-425b-bade-17d48019a809",
   "metadata": {},
   "source": [
    "# Convert vendor index to codes"
   ]
  },
  {
   "cell_type": "code",
   "execution_count": 17,
   "id": "9810cf44-c29f-4174-9e07-c36d03a28f6f",
   "metadata": {},
   "outputs": [],
   "source": [
    "# Map user_id to numeric index\n",
    "user_id_map = {uid: idx for idx, uid in enumerate(user_vendor_data['business_id'].unique())}\n",
    "user_vendor_data['vendor_idx'] = user_vendor_data['business_id'].map(user_id_map)"
   ]
  },
  {
   "cell_type": "code",
   "execution_count": 14,
   "id": "3fb24dc3-b694-4408-ace4-53f29a7165e7",
   "metadata": {},
   "outputs": [],
   "source": [
    "from sklearn.feature_extraction.text import TfidfVectorizer\n",
    "from scipy.sparse import csr_matrix\n",
    "\n",
    "# Vectorize user reviews\n",
    "t1 = TfidfVectorizer(max_features=5000, stop_words='english')\n",
    "review_vectors = t1.fit_transform(user_vendor_data['text'])\n",
    "\n",
    "\n"
   ]
  },
  {
   "cell_type": "code",
   "execution_count": 18,
   "id": "664c369d-f871-4f72-a201-29e3ec5f0702",
   "metadata": {},
   "outputs": [
    {
     "data": {
      "text/plain": [
       "347940"
      ]
     },
     "execution_count": 18,
     "metadata": {},
     "output_type": "execute_result"
    }
   ],
   "source": [
    "user_vendor_data['user_idx'].nunique()"
   ]
  },
  {
   "cell_type": "code",
   "execution_count": 19,
   "id": "05db599a-1e12-4872-bf28-6d1de9bb6e35",
   "metadata": {},
   "outputs": [],
   "source": [
    "t2 = TfidfVectorizer(max_features=5000, stop_words='english')\n",
    "vendor_profile = t2.fit_transform(user_vendor_data['categories'])"
   ]
  },
  {
   "cell_type": "code",
   "execution_count": 20,
   "id": "3cf61db8-7728-45ac-9c25-c6ae653ac2e3",
   "metadata": {},
   "outputs": [],
   "source": [
    "from sklearn.preprocessing import normalize\n",
    "\n",
    "# Normalize user profiles and vendor profiles\n",
    "user_profiles_normalized = normalize(review_vectors)\n",
    "vendor_profiles_normalized = normalize(vendor_profile)\n"
   ]
  },
  {
   "cell_type": "code",
   "execution_count": 21,
   "id": "c3258774-b427-4dd3-b056-427217a3c7c7",
   "metadata": {},
   "outputs": [
    {
     "data": {
      "text/plain": [
       "(551582, 5000)"
      ]
     },
     "execution_count": 21,
     "metadata": {},
     "output_type": "execute_result"
    }
   ],
   "source": [
    "review_vectors.shape"
   ]
  },
  {
   "cell_type": "code",
   "execution_count": null,
   "id": "f1c31713-e194-4476-a0d9-feb0dd2c02d6",
   "metadata": {},
   "outputs": [
    {
     "name": "stderr",
     "output_type": "stream",
     "text": [
      "C:\\Users\\ujwal\\wedora_env\\wedoraenv\\Lib\\site-packages\\scipy\\sparse\\_index.py:197: SparseEfficiencyWarning: Changing the sparsity structure of a csr_matrix is expensive. lil and dok are more efficient.\n",
      "  self._set_arrayXarray(i, j, x)\n"
     ]
    }
   ],
   "source": [
    "num_users = user_vendor_data['user_idx'].nunique()\n",
    "user_profiles = csr_matrix((num_users, review_vectors.shape[1]), dtype=np.float64)\n",
    "\n",
    "for user_idx in range(num_users):\n",
    "    user_reviews = review_vectors[np.array(user_vendor_data['user_idx'] == user_idx)]\n",
    "    if user_reviews.shape[0] > 0:\n",
    "        user_profiles[user_idx] = user_reviews.mean(axis=0)\n",
    "\n",
    "print(\"User profiles shape:\", user_profiles.shape)"
   ]
  },
  {
   "cell_type": "code",
   "execution_count": null,
   "id": "7deedd5b-a026-4995-90a0-f34c6fb2b106",
   "metadata": {},
   "outputs": [],
   "source": []
  }
 ],
 "metadata": {
  "kernelspec": {
   "display_name": "wedora_model",
   "language": "python",
   "name": "wedora_model"
  },
  "language_info": {
   "codemirror_mode": {
    "name": "ipython",
    "version": 3
   },
   "file_extension": ".py",
   "mimetype": "text/x-python",
   "name": "python",
   "nbconvert_exporter": "python",
   "pygments_lexer": "ipython3",
   "version": "3.12.4"
  }
 },
 "nbformat": 4,
 "nbformat_minor": 5
}
