{
 "cells": [
  {
   "cell_type": "code",
   "execution_count": 2,
   "id": "4b444282-fa71-4db8-bd2e-912c235579f7",
   "metadata": {},
   "outputs": [],
   "source": [
    "import numpy as np\n",
    "import pandas as pd"
   ]
  },
  {
   "cell_type": "code",
   "execution_count": 3,
   "id": "000956f3-6fbd-4b22-9d52-96b1e7e4d0fa",
   "metadata": {},
   "outputs": [],
   "source": [
    "vendor_review_df=pd.read_json(\"../r2Data/yelp/yelp_academic_dataset_review.json\",lines=True,nrows=400000)"
   ]
  },
  {
   "cell_type": "code",
   "execution_count": 4,
   "id": "9b6c2980-e820-440d-a828-63b45c48e411",
   "metadata": {},
   "outputs": [],
   "source": [
    "vendor_business_info=pd.read_json(\"../r2Data/yelp/yelp_academic_dataset_business.json\",lines=True)"
   ]
  },
  {
   "cell_type": "code",
   "execution_count": null,
   "id": "f763f242-6f79-4fab-9309-82eb37cb6948",
   "metadata": {},
   "outputs": [],
   "source": []
  },
  {
   "cell_type": "code",
   "execution_count": null,
   "id": "be4f3686-4247-4e9f-94e5-50e17c4bf122",
   "metadata": {},
   "outputs": [],
   "source": []
  }
 ],
 "metadata": {
  "kernelspec": {
   "display_name": "wedora_model",
   "language": "python",
   "name": "wedora_model"
  },
  "language_info": {
   "codemirror_mode": {
    "name": "ipython",
    "version": 3
   },
   "file_extension": ".py",
   "mimetype": "text/x-python",
   "name": "python",
   "nbconvert_exporter": "python",
   "pygments_lexer": "ipython3",
   "version": "3.12.4"
  }
 },
 "nbformat": 4,
 "nbformat_minor": 5
}
